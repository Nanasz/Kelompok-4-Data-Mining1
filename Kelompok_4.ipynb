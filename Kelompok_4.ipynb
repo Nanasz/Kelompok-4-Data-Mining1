{
  "nbformat": 4,
  "nbformat_minor": 0,
  "metadata": {
    "colab": {
      "provenance": [],
      "collapsed_sections": [],
      "name": "Kelompok 4.ipynb",
      "include_colab_link": true
    },
    "kernelspec": {
      "name": "python3",
      "display_name": "Python 3"
    },
    "language_info": {
      "name": "python"
    }
  },
  "cells": [
    {
      "cell_type": "markdown",
      "metadata": {
        "id": "view-in-github",
        "colab_type": "text"
      },
      "source": [
        "<a href=\"https://colab.research.google.com/github/Nanasz/Kelompok4-DataMining1/blob/main/Kelompok_4.ipynb\" target=\"_parent\"><img src=\"https://colab.research.google.com/assets/colab-badge.svg\" alt=\"Open In Colab\"/></a>"
      ]
    },
    {
      "cell_type": "code",
      "execution_count": 1,
      "metadata": {
        "id": "Y0a1KGZOAfdq"
      },
      "outputs": [],
      "source": [
        "#Import Data\n",
        "import numpy as np\n",
        "import pandas as pd\n",
        "import matplotlib\n",
        "import matplotlib.pyplot as plt\n",
        "import seaborn as sns"
      ]
    },
    {
      "cell_type": "code",
      "source": [
        "# Running Locally, yakinkan \"file_\" berada di folder \"data\"\n",
        "try :\n",
        "    dfJ = pd.read_csv(\"data/jakarta.csv\", low_memory = False, encoding='utf8')\n",
        "    dfD = pd.read_csv(\"data/depok.csv\", low_memory = False, encoding='utf8')\n",
        "    dfT = pd.read_csv(\"data/tangerang.csv\", low_memory = False, encoding='utf8')\n",
        "except: # Running in Google Colab\n",
        "    !mkdir data\n",
        "    !wget -P data/ https://raw.githubusercontent.com/Nanasz/Kelompok4-DataMining1/main/Data/depok.csv\n",
        "    !wget -P data/ https://raw.githubusercontent.com/Nanasz/Kelompok4-DataMining1/main/Data/tangerang.csv\n",
        "    !wget -P data/ https://raw.githubusercontent.com/Nanasz/Kelompok4-DataMining1/main/Data/jakarta.csv\n",
        "    dfJ = pd.read_csv(\"data/jakarta.csv\", low_memory = False, encoding='utf8')\n",
        "    dfD = pd.read_csv(\"data/depok.csv\", low_memory = False, encoding='utf8')\n",
        "    dfT = pd.read_csv(\"data/tangerang.csv\", low_memory = False, encoding='utf8')\n",
        "    \n",
        "dfJ.shape, dfD.shape, dfT.shape"
      ],
      "metadata": {
        "colab": {
          "base_uri": "https://localhost:8080/"
        },
        "id": "uKf7w2bLMBf4",
        "outputId": "2cbc4d4a-01b3-489d-8b80-4a9857699098"
      },
      "execution_count": 2,
      "outputs": [
        {
          "output_type": "execute_result",
          "data": {
            "text/plain": [
              "((1024, 26), (998, 26), (128, 26))"
            ]
          },
          "metadata": {},
          "execution_count": 2
        }
      ]
    },
    {
      "cell_type": "code",
      "source": [
        "frame = [dfJ, dfD, dfT]\n",
        "data_rumah= pd.concat(frame, ignore_index = True)\n",
        "data_rumah"
      ],
      "metadata": {
        "colab": {
          "base_uri": "https://localhost:8080/",
          "height": 609
        },
        "id": "nLNZmT0qMcRm",
        "outputId": "f6c45528-dd2b-4c3b-c124-88e06696a2b1"
      },
      "execution_count": 3,
      "outputs": [
        {
          "output_type": "execute_result",
          "data": {
            "text/plain": [
              "      created_at     LT     LB   KT   KM  garasi  carport            lokasi  \\\n",
              "0     06-12-2021  202.0  198.0  8.0  3.0     NaN      NaN     Jakarta Pusat   \n",
              "1     02-12-2021   30.0   55.0  2.0  1.0     NaN      1.0     Jakarta Pusat   \n",
              "2     06-12-2021   19.0   35.0  2.0  1.0     NaN      NaN     Jakarta Pusat   \n",
              "3     06-12-2021   33.0   42.0  2.0  2.0     NaN      1.0     Jakarta Pusat   \n",
              "4     06-12-2021   30.0   55.0  2.0  2.0     NaN      1.0     Jakarta Pusat   \n",
              "...          ...    ...    ...  ...  ...     ...      ...               ...   \n",
              "2145  12-08-2021   91.0   91.0  3.0  2.0     NaN      NaN  Poris, Tangerang   \n",
              "2146         NaN    NaN    NaN  NaN  NaN     NaN      NaN               NaN   \n",
              "2147         NaN    NaN    NaN  NaN  NaN     NaN      NaN               NaN   \n",
              "2148         NaN    NaN    NaN  NaN  NaN     NaN      NaN               NaN   \n",
              "2149         NaN    NaN    NaN  NaN  NaN     NaN      NaN               NaN   \n",
              "\n",
              "     sertifikat  listrik  ... Unnamed: 16  Unnamed: 17 Unnamed: 18  \\\n",
              "0           SHM   2200.0  ...         NaN          NaN         NaN   \n",
              "1           SHM   2200.0  ...         NaN          NaN         NaN   \n",
              "2           SHM   2200.0  ...         NaN          NaN         NaN   \n",
              "3           SHM   2200.0  ...         NaN          NaN         NaN   \n",
              "4           SHM   2200.0  ...         NaN          NaN         NaN   \n",
              "...         ...      ...  ...         ...          ...         ...   \n",
              "2145        SHM   3500.0  ...         NaN          NaN         NaN   \n",
              "2146        NaN      NaN  ...         NaN          NaN         NaN   \n",
              "2147        NaN      NaN  ...         NaN          NaN         NaN   \n",
              "2148        NaN      NaN  ...         NaN          NaN         NaN   \n",
              "2149        NaN      NaN  ...         NaN          NaN         NaN   \n",
              "\n",
              "     Unnamed: 19  Unnamed: 20  Unnamed: 21  Unnamed: 22  Unnamed: 23  \\\n",
              "0            NaN          NaN          NaN          NaN          NaN   \n",
              "1            NaN          NaN          NaN          NaN          NaN   \n",
              "2            NaN          NaN          NaN          NaN          NaN   \n",
              "3            NaN          NaN          NaN          NaN          NaN   \n",
              "4            NaN          NaN          NaN          NaN          NaN   \n",
              "...          ...          ...          ...          ...          ...   \n",
              "2145         NaN          NaN          NaN          NaN          NaN   \n",
              "2146         NaN          NaN          NaN          NaN          NaN   \n",
              "2147         NaN          NaN          NaN          NaN          NaN   \n",
              "2148         NaN          NaN          NaN          NaN          NaN   \n",
              "2149         NaN          NaN          NaN          NaN          NaN   \n",
              "\n",
              "      Unnamed: 24  Unnamed: 25  \n",
              "0             NaN          NaN  \n",
              "1             NaN          NaN  \n",
              "2             NaN          NaN  \n",
              "3             NaN          NaN  \n",
              "4             NaN          NaN  \n",
              "...           ...          ...  \n",
              "2145          NaN          NaN  \n",
              "2146          NaN          NaN  \n",
              "2147          NaN          NaN  \n",
              "2148          NaN          NaN  \n",
              "2149          NaN          NaN  \n",
              "\n",
              "[2150 rows x 26 columns]"
            ],
            "text/html": [
              "\n",
              "  <div id=\"df-6a1accf4-bf18-4bc0-bd62-7e51dc72fc63\">\n",
              "    <div class=\"colab-df-container\">\n",
              "      <div>\n",
              "<style scoped>\n",
              "    .dataframe tbody tr th:only-of-type {\n",
              "        vertical-align: middle;\n",
              "    }\n",
              "\n",
              "    .dataframe tbody tr th {\n",
              "        vertical-align: top;\n",
              "    }\n",
              "\n",
              "    .dataframe thead th {\n",
              "        text-align: right;\n",
              "    }\n",
              "</style>\n",
              "<table border=\"1\" class=\"dataframe\">\n",
              "  <thead>\n",
              "    <tr style=\"text-align: right;\">\n",
              "      <th></th>\n",
              "      <th>created_at</th>\n",
              "      <th>LT</th>\n",
              "      <th>LB</th>\n",
              "      <th>KT</th>\n",
              "      <th>KM</th>\n",
              "      <th>garasi</th>\n",
              "      <th>carport</th>\n",
              "      <th>lokasi</th>\n",
              "      <th>sertifikat</th>\n",
              "      <th>listrik</th>\n",
              "      <th>...</th>\n",
              "      <th>Unnamed: 16</th>\n",
              "      <th>Unnamed: 17</th>\n",
              "      <th>Unnamed: 18</th>\n",
              "      <th>Unnamed: 19</th>\n",
              "      <th>Unnamed: 20</th>\n",
              "      <th>Unnamed: 21</th>\n",
              "      <th>Unnamed: 22</th>\n",
              "      <th>Unnamed: 23</th>\n",
              "      <th>Unnamed: 24</th>\n",
              "      <th>Unnamed: 25</th>\n",
              "    </tr>\n",
              "  </thead>\n",
              "  <tbody>\n",
              "    <tr>\n",
              "      <th>0</th>\n",
              "      <td>06-12-2021</td>\n",
              "      <td>202.0</td>\n",
              "      <td>198.0</td>\n",
              "      <td>8.0</td>\n",
              "      <td>3.0</td>\n",
              "      <td>NaN</td>\n",
              "      <td>NaN</td>\n",
              "      <td>Jakarta Pusat</td>\n",
              "      <td>SHM</td>\n",
              "      <td>2200.0</td>\n",
              "      <td>...</td>\n",
              "      <td>NaN</td>\n",
              "      <td>NaN</td>\n",
              "      <td>NaN</td>\n",
              "      <td>NaN</td>\n",
              "      <td>NaN</td>\n",
              "      <td>NaN</td>\n",
              "      <td>NaN</td>\n",
              "      <td>NaN</td>\n",
              "      <td>NaN</td>\n",
              "      <td>NaN</td>\n",
              "    </tr>\n",
              "    <tr>\n",
              "      <th>1</th>\n",
              "      <td>02-12-2021</td>\n",
              "      <td>30.0</td>\n",
              "      <td>55.0</td>\n",
              "      <td>2.0</td>\n",
              "      <td>1.0</td>\n",
              "      <td>NaN</td>\n",
              "      <td>1.0</td>\n",
              "      <td>Jakarta Pusat</td>\n",
              "      <td>SHM</td>\n",
              "      <td>2200.0</td>\n",
              "      <td>...</td>\n",
              "      <td>NaN</td>\n",
              "      <td>NaN</td>\n",
              "      <td>NaN</td>\n",
              "      <td>NaN</td>\n",
              "      <td>NaN</td>\n",
              "      <td>NaN</td>\n",
              "      <td>NaN</td>\n",
              "      <td>NaN</td>\n",
              "      <td>NaN</td>\n",
              "      <td>NaN</td>\n",
              "    </tr>\n",
              "    <tr>\n",
              "      <th>2</th>\n",
              "      <td>06-12-2021</td>\n",
              "      <td>19.0</td>\n",
              "      <td>35.0</td>\n",
              "      <td>2.0</td>\n",
              "      <td>1.0</td>\n",
              "      <td>NaN</td>\n",
              "      <td>NaN</td>\n",
              "      <td>Jakarta Pusat</td>\n",
              "      <td>SHM</td>\n",
              "      <td>2200.0</td>\n",
              "      <td>...</td>\n",
              "      <td>NaN</td>\n",
              "      <td>NaN</td>\n",
              "      <td>NaN</td>\n",
              "      <td>NaN</td>\n",
              "      <td>NaN</td>\n",
              "      <td>NaN</td>\n",
              "      <td>NaN</td>\n",
              "      <td>NaN</td>\n",
              "      <td>NaN</td>\n",
              "      <td>NaN</td>\n",
              "    </tr>\n",
              "    <tr>\n",
              "      <th>3</th>\n",
              "      <td>06-12-2021</td>\n",
              "      <td>33.0</td>\n",
              "      <td>42.0</td>\n",
              "      <td>2.0</td>\n",
              "      <td>2.0</td>\n",
              "      <td>NaN</td>\n",
              "      <td>1.0</td>\n",
              "      <td>Jakarta Pusat</td>\n",
              "      <td>SHM</td>\n",
              "      <td>2200.0</td>\n",
              "      <td>...</td>\n",
              "      <td>NaN</td>\n",
              "      <td>NaN</td>\n",
              "      <td>NaN</td>\n",
              "      <td>NaN</td>\n",
              "      <td>NaN</td>\n",
              "      <td>NaN</td>\n",
              "      <td>NaN</td>\n",
              "      <td>NaN</td>\n",
              "      <td>NaN</td>\n",
              "      <td>NaN</td>\n",
              "    </tr>\n",
              "    <tr>\n",
              "      <th>4</th>\n",
              "      <td>06-12-2021</td>\n",
              "      <td>30.0</td>\n",
              "      <td>55.0</td>\n",
              "      <td>2.0</td>\n",
              "      <td>2.0</td>\n",
              "      <td>NaN</td>\n",
              "      <td>1.0</td>\n",
              "      <td>Jakarta Pusat</td>\n",
              "      <td>SHM</td>\n",
              "      <td>2200.0</td>\n",
              "      <td>...</td>\n",
              "      <td>NaN</td>\n",
              "      <td>NaN</td>\n",
              "      <td>NaN</td>\n",
              "      <td>NaN</td>\n",
              "      <td>NaN</td>\n",
              "      <td>NaN</td>\n",
              "      <td>NaN</td>\n",
              "      <td>NaN</td>\n",
              "      <td>NaN</td>\n",
              "      <td>NaN</td>\n",
              "    </tr>\n",
              "    <tr>\n",
              "      <th>...</th>\n",
              "      <td>...</td>\n",
              "      <td>...</td>\n",
              "      <td>...</td>\n",
              "      <td>...</td>\n",
              "      <td>...</td>\n",
              "      <td>...</td>\n",
              "      <td>...</td>\n",
              "      <td>...</td>\n",
              "      <td>...</td>\n",
              "      <td>...</td>\n",
              "      <td>...</td>\n",
              "      <td>...</td>\n",
              "      <td>...</td>\n",
              "      <td>...</td>\n",
              "      <td>...</td>\n",
              "      <td>...</td>\n",
              "      <td>...</td>\n",
              "      <td>...</td>\n",
              "      <td>...</td>\n",
              "      <td>...</td>\n",
              "      <td>...</td>\n",
              "    </tr>\n",
              "    <tr>\n",
              "      <th>2145</th>\n",
              "      <td>12-08-2021</td>\n",
              "      <td>91.0</td>\n",
              "      <td>91.0</td>\n",
              "      <td>3.0</td>\n",
              "      <td>2.0</td>\n",
              "      <td>NaN</td>\n",
              "      <td>NaN</td>\n",
              "      <td>Poris, Tangerang</td>\n",
              "      <td>SHM</td>\n",
              "      <td>3500.0</td>\n",
              "      <td>...</td>\n",
              "      <td>NaN</td>\n",
              "      <td>NaN</td>\n",
              "      <td>NaN</td>\n",
              "      <td>NaN</td>\n",
              "      <td>NaN</td>\n",
              "      <td>NaN</td>\n",
              "      <td>NaN</td>\n",
              "      <td>NaN</td>\n",
              "      <td>NaN</td>\n",
              "      <td>NaN</td>\n",
              "    </tr>\n",
              "    <tr>\n",
              "      <th>2146</th>\n",
              "      <td>NaN</td>\n",
              "      <td>NaN</td>\n",
              "      <td>NaN</td>\n",
              "      <td>NaN</td>\n",
              "      <td>NaN</td>\n",
              "      <td>NaN</td>\n",
              "      <td>NaN</td>\n",
              "      <td>NaN</td>\n",
              "      <td>NaN</td>\n",
              "      <td>NaN</td>\n",
              "      <td>...</td>\n",
              "      <td>NaN</td>\n",
              "      <td>NaN</td>\n",
              "      <td>NaN</td>\n",
              "      <td>NaN</td>\n",
              "      <td>NaN</td>\n",
              "      <td>NaN</td>\n",
              "      <td>NaN</td>\n",
              "      <td>NaN</td>\n",
              "      <td>NaN</td>\n",
              "      <td>NaN</td>\n",
              "    </tr>\n",
              "    <tr>\n",
              "      <th>2147</th>\n",
              "      <td>NaN</td>\n",
              "      <td>NaN</td>\n",
              "      <td>NaN</td>\n",
              "      <td>NaN</td>\n",
              "      <td>NaN</td>\n",
              "      <td>NaN</td>\n",
              "      <td>NaN</td>\n",
              "      <td>NaN</td>\n",
              "      <td>NaN</td>\n",
              "      <td>NaN</td>\n",
              "      <td>...</td>\n",
              "      <td>NaN</td>\n",
              "      <td>NaN</td>\n",
              "      <td>NaN</td>\n",
              "      <td>NaN</td>\n",
              "      <td>NaN</td>\n",
              "      <td>NaN</td>\n",
              "      <td>NaN</td>\n",
              "      <td>NaN</td>\n",
              "      <td>NaN</td>\n",
              "      <td>NaN</td>\n",
              "    </tr>\n",
              "    <tr>\n",
              "      <th>2148</th>\n",
              "      <td>NaN</td>\n",
              "      <td>NaN</td>\n",
              "      <td>NaN</td>\n",
              "      <td>NaN</td>\n",
              "      <td>NaN</td>\n",
              "      <td>NaN</td>\n",
              "      <td>NaN</td>\n",
              "      <td>NaN</td>\n",
              "      <td>NaN</td>\n",
              "      <td>NaN</td>\n",
              "      <td>...</td>\n",
              "      <td>NaN</td>\n",
              "      <td>NaN</td>\n",
              "      <td>NaN</td>\n",
              "      <td>NaN</td>\n",
              "      <td>NaN</td>\n",
              "      <td>NaN</td>\n",
              "      <td>NaN</td>\n",
              "      <td>NaN</td>\n",
              "      <td>NaN</td>\n",
              "      <td>NaN</td>\n",
              "    </tr>\n",
              "    <tr>\n",
              "      <th>2149</th>\n",
              "      <td>NaN</td>\n",
              "      <td>NaN</td>\n",
              "      <td>NaN</td>\n",
              "      <td>NaN</td>\n",
              "      <td>NaN</td>\n",
              "      <td>NaN</td>\n",
              "      <td>NaN</td>\n",
              "      <td>NaN</td>\n",
              "      <td>NaN</td>\n",
              "      <td>NaN</td>\n",
              "      <td>...</td>\n",
              "      <td>NaN</td>\n",
              "      <td>NaN</td>\n",
              "      <td>NaN</td>\n",
              "      <td>NaN</td>\n",
              "      <td>NaN</td>\n",
              "      <td>NaN</td>\n",
              "      <td>NaN</td>\n",
              "      <td>NaN</td>\n",
              "      <td>NaN</td>\n",
              "      <td>NaN</td>\n",
              "    </tr>\n",
              "  </tbody>\n",
              "</table>\n",
              "<p>2150 rows × 26 columns</p>\n",
              "</div>\n",
              "      <button class=\"colab-df-convert\" onclick=\"convertToInteractive('df-6a1accf4-bf18-4bc0-bd62-7e51dc72fc63')\"\n",
              "              title=\"Convert this dataframe to an interactive table.\"\n",
              "              style=\"display:none;\">\n",
              "        \n",
              "  <svg xmlns=\"http://www.w3.org/2000/svg\" height=\"24px\"viewBox=\"0 0 24 24\"\n",
              "       width=\"24px\">\n",
              "    <path d=\"M0 0h24v24H0V0z\" fill=\"none\"/>\n",
              "    <path d=\"M18.56 5.44l.94 2.06.94-2.06 2.06-.94-2.06-.94-.94-2.06-.94 2.06-2.06.94zm-11 1L8.5 8.5l.94-2.06 2.06-.94-2.06-.94L8.5 2.5l-.94 2.06-2.06.94zm10 10l.94 2.06.94-2.06 2.06-.94-2.06-.94-.94-2.06-.94 2.06-2.06.94z\"/><path d=\"M17.41 7.96l-1.37-1.37c-.4-.4-.92-.59-1.43-.59-.52 0-1.04.2-1.43.59L10.3 9.45l-7.72 7.72c-.78.78-.78 2.05 0 2.83L4 21.41c.39.39.9.59 1.41.59.51 0 1.02-.2 1.41-.59l7.78-7.78 2.81-2.81c.8-.78.8-2.07 0-2.86zM5.41 20L4 18.59l7.72-7.72 1.47 1.35L5.41 20z\"/>\n",
              "  </svg>\n",
              "      </button>\n",
              "      \n",
              "  <style>\n",
              "    .colab-df-container {\n",
              "      display:flex;\n",
              "      flex-wrap:wrap;\n",
              "      gap: 12px;\n",
              "    }\n",
              "\n",
              "    .colab-df-convert {\n",
              "      background-color: #E8F0FE;\n",
              "      border: none;\n",
              "      border-radius: 50%;\n",
              "      cursor: pointer;\n",
              "      display: none;\n",
              "      fill: #1967D2;\n",
              "      height: 32px;\n",
              "      padding: 0 0 0 0;\n",
              "      width: 32px;\n",
              "    }\n",
              "\n",
              "    .colab-df-convert:hover {\n",
              "      background-color: #E2EBFA;\n",
              "      box-shadow: 0px 1px 2px rgba(60, 64, 67, 0.3), 0px 1px 3px 1px rgba(60, 64, 67, 0.15);\n",
              "      fill: #174EA6;\n",
              "    }\n",
              "\n",
              "    [theme=dark] .colab-df-convert {\n",
              "      background-color: #3B4455;\n",
              "      fill: #D2E3FC;\n",
              "    }\n",
              "\n",
              "    [theme=dark] .colab-df-convert:hover {\n",
              "      background-color: #434B5C;\n",
              "      box-shadow: 0px 1px 3px 1px rgba(0, 0, 0, 0.15);\n",
              "      filter: drop-shadow(0px 1px 2px rgba(0, 0, 0, 0.3));\n",
              "      fill: #FFFFFF;\n",
              "    }\n",
              "  </style>\n",
              "\n",
              "      <script>\n",
              "        const buttonEl =\n",
              "          document.querySelector('#df-6a1accf4-bf18-4bc0-bd62-7e51dc72fc63 button.colab-df-convert');\n",
              "        buttonEl.style.display =\n",
              "          google.colab.kernel.accessAllowed ? 'block' : 'none';\n",
              "\n",
              "        async function convertToInteractive(key) {\n",
              "          const element = document.querySelector('#df-6a1accf4-bf18-4bc0-bd62-7e51dc72fc63');\n",
              "          const dataTable =\n",
              "            await google.colab.kernel.invokeFunction('convertToInteractive',\n",
              "                                                     [key], {});\n",
              "          if (!dataTable) return;\n",
              "\n",
              "          const docLinkHtml = 'Like what you see? Visit the ' +\n",
              "            '<a target=\"_blank\" href=https://colab.research.google.com/notebooks/data_table.ipynb>data table notebook</a>'\n",
              "            + ' to learn more about interactive tables.';\n",
              "          element.innerHTML = '';\n",
              "          dataTable['output_type'] = 'display_data';\n",
              "          await google.colab.output.renderOutput(dataTable, element);\n",
              "          const docLink = document.createElement('div');\n",
              "          docLink.innerHTML = docLinkHtml;\n",
              "          element.appendChild(docLink);\n",
              "        }\n",
              "      </script>\n",
              "    </div>\n",
              "  </div>\n",
              "  "
            ]
          },
          "metadata": {},
          "execution_count": 3
        }
      ]
    },
    {
      "cell_type": "code",
      "source": [
        "data_rumah.columns"
      ],
      "metadata": {
        "colab": {
          "base_uri": "https://localhost:8080/"
        },
        "id": "aZ_bH335Mp8B",
        "outputId": "bb8aa786-6b9b-4ddb-e4ac-2aa4b5a7feaf"
      },
      "execution_count": 4,
      "outputs": [
        {
          "output_type": "execute_result",
          "data": {
            "text/plain": [
              "Index(['created_at', 'LT', 'LB', 'KT', 'KM', 'garasi', 'carport', 'lokasi',\n",
              "       'sertifikat', 'listrik', 'hadap', 'harga', 'URL', 'deskripsi',\n",
              "       'Unnamed: 14', 'Unnamed: 15', 'Unnamed: 16', 'Unnamed: 17',\n",
              "       'Unnamed: 18', 'Unnamed: 19', 'Unnamed: 20', 'Unnamed: 21',\n",
              "       'Unnamed: 22', 'Unnamed: 23', 'Unnamed: 24', 'Unnamed: 25'],\n",
              "      dtype='object')"
            ]
          },
          "metadata": {},
          "execution_count": 4
        }
      ]
    },
    {
      "cell_type": "code",
      "source": [
        "data_rumah = data_rumah.drop(data_rumah.columns[14:26], axis= 1)\n",
        "data_rumah.columns"
      ],
      "metadata": {
        "colab": {
          "base_uri": "https://localhost:8080/"
        },
        "id": "I0oXXZp-Mz_9",
        "outputId": "0c687c02-9832-4a74-a9fd-8cdfcbc9da3d"
      },
      "execution_count": 5,
      "outputs": [
        {
          "output_type": "execute_result",
          "data": {
            "text/plain": [
              "Index(['created_at', 'LT', 'LB', 'KT', 'KM', 'garasi', 'carport', 'lokasi',\n",
              "       'sertifikat', 'listrik', 'hadap', 'harga', 'URL', 'deskripsi'],\n",
              "      dtype='object')"
            ]
          },
          "metadata": {},
          "execution_count": 5
        }
      ]
    },
    {
      "cell_type": "code",
      "source": [
        "data_rumah.transpose()"
      ],
      "metadata": {
        "colab": {
          "base_uri": "https://localhost:8080/",
          "height": 616
        },
        "id": "jCbkVuI5Na-R",
        "outputId": "fbcfef4d-7b3d-4440-b2bd-63677f750240"
      },
      "execution_count": 6,
      "outputs": [
        {
          "output_type": "execute_result",
          "data": {
            "text/plain": [
              "                                                         0     \\\n",
              "created_at                                         06-12-2021   \n",
              "LT                                                      202.0   \n",
              "LB                                                      198.0   \n",
              "KT                                                        8.0   \n",
              "KM                                                        3.0   \n",
              "garasi                                                    NaN   \n",
              "carport                                                   NaN   \n",
              "lokasi                                          Jakarta Pusat   \n",
              "sertifikat                                                SHM   \n",
              "listrik                                                2200.0   \n",
              "hadap                                                     NaN   \n",
              "harga                                            4500000000.0   \n",
              "URL         https://www.rumah.com/listing-properti/dijual-...   \n",
              "deskripsi   Dekat Cikini Salemba Taman Isamail Marzuki Kam...   \n",
              "\n",
              "                                                         1     \\\n",
              "created_at                                         02-12-2021   \n",
              "LT                                                       30.0   \n",
              "LB                                                       55.0   \n",
              "KT                                                        2.0   \n",
              "KM                                                        1.0   \n",
              "garasi                                                    NaN   \n",
              "carport                                                   1.0   \n",
              "lokasi                                          Jakarta Pusat   \n",
              "sertifikat                                                SHM   \n",
              "listrik                                                2200.0   \n",
              "hadap                                                     NaN   \n",
              "harga                                            1100000000.0   \n",
              "URL         https://www.rumah.com/listing-properti/dijual-...   \n",
              "deskripsi   Mengusung konsep minimalis, dan didukung denga...   \n",
              "\n",
              "                                                         2     \\\n",
              "created_at                                         06-12-2021   \n",
              "LT                                                       19.0   \n",
              "LB                                                       35.0   \n",
              "KT                                                        2.0   \n",
              "KM                                                        1.0   \n",
              "garasi                                                    NaN   \n",
              "carport                                                   NaN   \n",
              "lokasi                                          Jakarta Pusat   \n",
              "sertifikat                                                SHM   \n",
              "listrik                                                2200.0   \n",
              "hadap                                                     NaN   \n",
              "harga                                             395000000.0   \n",
              "URL         https://www.rumah.com/listing-properti/dijual-...   \n",
              "deskripsi   Dekat dengan Mall Atrium Senen, dekat dengan a...   \n",
              "\n",
              "                                                         3     \\\n",
              "created_at                                         06-12-2021   \n",
              "LT                                                       33.0   \n",
              "LB                                                       42.0   \n",
              "KT                                                        2.0   \n",
              "KM                                                        2.0   \n",
              "garasi                                                    NaN   \n",
              "carport                                                   1.0   \n",
              "lokasi                                          Jakarta Pusat   \n",
              "sertifikat                                                SHM   \n",
              "listrik                                                2200.0   \n",
              "hadap                                                     NaN   \n",
              "harga                                             835000000.0   \n",
              "URL         https://www.rumah.com/listing-properti/dijual-...   \n",
              "deskripsi   Berlokasi sangat strategis, sangat dekat ke Tu...   \n",
              "\n",
              "                                                         4     \\\n",
              "created_at                                         06-12-2021   \n",
              "LT                                                       30.0   \n",
              "LB                                                       55.0   \n",
              "KT                                                        2.0   \n",
              "KM                                                        2.0   \n",
              "garasi                                                    NaN   \n",
              "carport                                                   1.0   \n",
              "lokasi                                          Jakarta Pusat   \n",
              "sertifikat                                                SHM   \n",
              "listrik                                                2200.0   \n",
              "hadap                                                     NaN   \n",
              "harga                                            1100000000.0   \n",
              "URL         https://www.rumah.com/listing-properti/dijual-...   \n",
              "deskripsi   Bisa request ubah tata ruang, beli 2 unit mend...   \n",
              "\n",
              "                                                         5     \\\n",
              "created_at                                         06-12-2021   \n",
              "LT                                                      217.0   \n",
              "LB                                                      245.0   \n",
              "KT                                                        6.0   \n",
              "KM                                                        4.0   \n",
              "garasi                                                    NaN   \n",
              "carport                                                   2.0   \n",
              "lokasi                                          Jakarta Pusat   \n",
              "sertifikat                                                SHM   \n",
              "listrik                                                4400.0   \n",
              "hadap                                                     NaN   \n",
              "harga                                            5500000000.0   \n",
              "URL         https://www.rumah.com/listing-properti/dijual-...   \n",
              "deskripsi                                                 NaN   \n",
              "\n",
              "                                                         6     \\\n",
              "created_at                                         06-12-2021   \n",
              "LT                                                      424.0   \n",
              "LB                                                     1000.0   \n",
              "KT                                                        4.0   \n",
              "KM                                                        5.0   \n",
              "garasi                                                    1.0   \n",
              "carport                                                   1.0   \n",
              "lokasi                                          Jakarta Pusat   \n",
              "sertifikat                                                SHM   \n",
              "listrik                                               33000.0   \n",
              "hadap                                                   Timur   \n",
              "harga                                           49500000000.0   \n",
              "URL         https://www.rumah.com/listing-properti/dijual-...   \n",
              "deskripsi   Rumah mewah berkonsep hotel bintang 5, interio...   \n",
              "\n",
              "                                                         7     \\\n",
              "created_at                                         06-12-2021   \n",
              "LT                                                      597.0   \n",
              "LB                                                      700.0   \n",
              "KT                                                        5.0   \n",
              "KM                                                        4.0   \n",
              "garasi                                                    2.0   \n",
              "carport                                                   5.0   \n",
              "lokasi                                          Jakarta Pusat   \n",
              "sertifikat                                                SHM   \n",
              "listrik                                                8000.0   \n",
              "hadap                                                     NaN   \n",
              "harga                                           40000000000.0   \n",
              "URL         https://www.rumah.com/listing-properti/dijual-...   \n",
              "deskripsi   Lokasi strategis hanya 5 menit ke pusat  kulin...   \n",
              "\n",
              "                                                         8     \\\n",
              "created_at                                         06-12-2021   \n",
              "LT                                                       60.0   \n",
              "LB                                                       98.0   \n",
              "KT                                                        3.0   \n",
              "KM                                                        3.0   \n",
              "garasi                                                    NaN   \n",
              "carport                                                   1.0   \n",
              "lokasi                                          Jakarta Pusat   \n",
              "sertifikat                                                SHM   \n",
              "listrik                                                2200.0   \n",
              "hadap                                                     NaN   \n",
              "harga                                            1700000000.0   \n",
              "URL         https://www.rumah.com/listing-properti/dijual-...   \n",
              "deskripsi   Lokasi strategis di perbatasan Jakarta Barat d...   \n",
              "\n",
              "                                                         9     ...  \\\n",
              "created_at                                         06-12-2021  ...   \n",
              "LT                                                       33.0  ...   \n",
              "LB                                                       42.0  ...   \n",
              "KT                                                        2.0  ...   \n",
              "KM                                                        1.0  ...   \n",
              "garasi                                                    NaN  ...   \n",
              "carport                                                   1.0  ...   \n",
              "lokasi                                          Jakarta Pusat  ...   \n",
              "sertifikat                                                SHM  ...   \n",
              "listrik                                                2200.0  ...   \n",
              "hadap                                                     NaN  ...   \n",
              "harga                                             835000000.0  ...   \n",
              "URL         https://www.rumah.com/listing-properti/dijual-...  ...   \n",
              "deskripsi   Desain menarik dengan konsep Townhouse, akses ...  ...   \n",
              "\n",
              "                                                         2140  \\\n",
              "created_at                                         12-08-2021   \n",
              "LT                                                      300.0   \n",
              "LB                                                      148.0   \n",
              "KT                                                        4.0   \n",
              "KM                                                        3.0   \n",
              "garasi                                                    2.0   \n",
              "carport                                                   2.0   \n",
              "lokasi                                 PONDOK CABE, TANGERANG   \n",
              "sertifikat                                                SHM   \n",
              "listrik                                                2200.0   \n",
              "hadap                                                   Timur   \n",
              "harga                                                  1900.0   \n",
              "URL         https://www.rumah123.com/properti/tangerang/ho...   \n",
              "deskripsi   DIJUAL DI BAWAH HARGA PASAR, HARGA PASARAN MAS...   \n",
              "\n",
              "                                                         2141  \\\n",
              "created_at                                         12-08-2021   \n",
              "LT                                                       60.0   \n",
              "LB                                                       55.0   \n",
              "KT                                                        2.0   \n",
              "KM                                                        2.0   \n",
              "garasi                                                    NaN   \n",
              "carport                                                   1.0   \n",
              "lokasi                              LIPPO KARAWACI, TANGERANG   \n",
              "sertifikat                    lainnya(PPJB, GIRIK, ADAT, dll)   \n",
              "listrik                                                2200.0   \n",
              "hadap                                                     NaN   \n",
              "harga                                                   711.0   \n",
              "URL         https://www.rumah123.com/properti/tangerang/ho...   \n",
              "deskripsi   Lokasi sangat dekat dengan berbagai Akses,Ters...   \n",
              "\n",
              "                                                         2142  \\\n",
              "created_at                                         12-08-2021   \n",
              "LT                                                       66.0   \n",
              "LB                                                       70.0   \n",
              "KT                                                        3.0   \n",
              "KM                                                        2.0   \n",
              "garasi                                                    NaN   \n",
              "carport                                                   1.0   \n",
              "lokasi                                      Ciater, Tangerang   \n",
              "sertifikat                                                SHM   \n",
              "listrik                                                1300.0   \n",
              "hadap                                                     NaN   \n",
              "harga                                                   850.0   \n",
              "URL         https://www.rumah123.com/properti/tangerang/ho...   \n",
              "deskripsi   Berlian Ciater, Hunian 2 Lantai Nyaman dan Asr...   \n",
              "\n",
              "                                                         2143  \\\n",
              "created_at                                         12-08-2021   \n",
              "LT                                                      202.0   \n",
              "LB                                                       85.0   \n",
              "KT                                                        4.0   \n",
              "KM                                                        3.0   \n",
              "garasi                                                    1.0   \n",
              "carport                                                   1.0   \n",
              "lokasi                              BSD Griya Loka, Tangerang   \n",
              "sertifikat                                                SHM   \n",
              "listrik                                                2200.0   \n",
              "hadap                                                   Barat   \n",
              "harga                                                  1860.0   \n",
              "URL         https://www.rumah123.com/properti/tangerang/ho...   \n",
              "deskripsi   1-7 km ke Stasiun Rawa Buntu, Rs Eka Hospital,...   \n",
              "\n",
              "                                                         2144  \\\n",
              "created_at                                         12-08-2021   \n",
              "LT                                                      108.0   \n",
              "LB                                                      130.0   \n",
              "KT                                                        3.0   \n",
              "KM                                                        3.0   \n",
              "garasi                                                    1.0   \n",
              "carport                                                   1.0   \n",
              "lokasi                                  Pagedangan, Tangerang   \n",
              "sertifikat                                                SHM   \n",
              "listrik                                                2200.0   \n",
              "hadap                                                     NaN   \n",
              "harga                                                  1800.0   \n",
              "URL         https://www.rumah123.com/properti/tangerang/ho...   \n",
              "deskripsi   Fasilitas Terdekat :Lokasi strategis, berada d...   \n",
              "\n",
              "                                                         2145 2146 2147 2148  \\\n",
              "created_at                                         12-08-2021  NaN  NaN  NaN   \n",
              "LT                                                       91.0  NaN  NaN  NaN   \n",
              "LB                                                       91.0  NaN  NaN  NaN   \n",
              "KT                                                        3.0  NaN  NaN  NaN   \n",
              "KM                                                        2.0  NaN  NaN  NaN   \n",
              "garasi                                                    NaN  NaN  NaN  NaN   \n",
              "carport                                                   NaN  NaN  NaN  NaN   \n",
              "lokasi                                       Poris, Tangerang  NaN  NaN  NaN   \n",
              "sertifikat                                                SHM  NaN  NaN  NaN   \n",
              "listrik                                                3500.0  NaN  NaN  NaN   \n",
              "hadap                                                     NaN  NaN  NaN  NaN   \n",
              "harga                                                  1000.0  NaN  NaN  NaN   \n",
              "URL         https://www.rumah123.com/properti/tangerang/ho...  NaN  NaN  NaN   \n",
              "deskripsi   Akses Mudah: 10 Menit Ke stasiun kereta poris ...  NaN  NaN  NaN   \n",
              "\n",
              "           2149  \n",
              "created_at  NaN  \n",
              "LT          NaN  \n",
              "LB          NaN  \n",
              "KT          NaN  \n",
              "KM          NaN  \n",
              "garasi      NaN  \n",
              "carport     NaN  \n",
              "lokasi      NaN  \n",
              "sertifikat  NaN  \n",
              "listrik     NaN  \n",
              "hadap       NaN  \n",
              "harga       NaN  \n",
              "URL         NaN  \n",
              "deskripsi   NaN  \n",
              "\n",
              "[14 rows x 2150 columns]"
            ],
            "text/html": [
              "\n",
              "  <div id=\"df-19174c81-9e61-4f3a-9bb0-556f1d8482f5\">\n",
              "    <div class=\"colab-df-container\">\n",
              "      <div>\n",
              "<style scoped>\n",
              "    .dataframe tbody tr th:only-of-type {\n",
              "        vertical-align: middle;\n",
              "    }\n",
              "\n",
              "    .dataframe tbody tr th {\n",
              "        vertical-align: top;\n",
              "    }\n",
              "\n",
              "    .dataframe thead th {\n",
              "        text-align: right;\n",
              "    }\n",
              "</style>\n",
              "<table border=\"1\" class=\"dataframe\">\n",
              "  <thead>\n",
              "    <tr style=\"text-align: right;\">\n",
              "      <th></th>\n",
              "      <th>0</th>\n",
              "      <th>1</th>\n",
              "      <th>2</th>\n",
              "      <th>3</th>\n",
              "      <th>4</th>\n",
              "      <th>5</th>\n",
              "      <th>6</th>\n",
              "      <th>7</th>\n",
              "      <th>8</th>\n",
              "      <th>9</th>\n",
              "      <th>...</th>\n",
              "      <th>2140</th>\n",
              "      <th>2141</th>\n",
              "      <th>2142</th>\n",
              "      <th>2143</th>\n",
              "      <th>2144</th>\n",
              "      <th>2145</th>\n",
              "      <th>2146</th>\n",
              "      <th>2147</th>\n",
              "      <th>2148</th>\n",
              "      <th>2149</th>\n",
              "    </tr>\n",
              "  </thead>\n",
              "  <tbody>\n",
              "    <tr>\n",
              "      <th>created_at</th>\n",
              "      <td>06-12-2021</td>\n",
              "      <td>02-12-2021</td>\n",
              "      <td>06-12-2021</td>\n",
              "      <td>06-12-2021</td>\n",
              "      <td>06-12-2021</td>\n",
              "      <td>06-12-2021</td>\n",
              "      <td>06-12-2021</td>\n",
              "      <td>06-12-2021</td>\n",
              "      <td>06-12-2021</td>\n",
              "      <td>06-12-2021</td>\n",
              "      <td>...</td>\n",
              "      <td>12-08-2021</td>\n",
              "      <td>12-08-2021</td>\n",
              "      <td>12-08-2021</td>\n",
              "      <td>12-08-2021</td>\n",
              "      <td>12-08-2021</td>\n",
              "      <td>12-08-2021</td>\n",
              "      <td>NaN</td>\n",
              "      <td>NaN</td>\n",
              "      <td>NaN</td>\n",
              "      <td>NaN</td>\n",
              "    </tr>\n",
              "    <tr>\n",
              "      <th>LT</th>\n",
              "      <td>202.0</td>\n",
              "      <td>30.0</td>\n",
              "      <td>19.0</td>\n",
              "      <td>33.0</td>\n",
              "      <td>30.0</td>\n",
              "      <td>217.0</td>\n",
              "      <td>424.0</td>\n",
              "      <td>597.0</td>\n",
              "      <td>60.0</td>\n",
              "      <td>33.0</td>\n",
              "      <td>...</td>\n",
              "      <td>300.0</td>\n",
              "      <td>60.0</td>\n",
              "      <td>66.0</td>\n",
              "      <td>202.0</td>\n",
              "      <td>108.0</td>\n",
              "      <td>91.0</td>\n",
              "      <td>NaN</td>\n",
              "      <td>NaN</td>\n",
              "      <td>NaN</td>\n",
              "      <td>NaN</td>\n",
              "    </tr>\n",
              "    <tr>\n",
              "      <th>LB</th>\n",
              "      <td>198.0</td>\n",
              "      <td>55.0</td>\n",
              "      <td>35.0</td>\n",
              "      <td>42.0</td>\n",
              "      <td>55.0</td>\n",
              "      <td>245.0</td>\n",
              "      <td>1000.0</td>\n",
              "      <td>700.0</td>\n",
              "      <td>98.0</td>\n",
              "      <td>42.0</td>\n",
              "      <td>...</td>\n",
              "      <td>148.0</td>\n",
              "      <td>55.0</td>\n",
              "      <td>70.0</td>\n",
              "      <td>85.0</td>\n",
              "      <td>130.0</td>\n",
              "      <td>91.0</td>\n",
              "      <td>NaN</td>\n",
              "      <td>NaN</td>\n",
              "      <td>NaN</td>\n",
              "      <td>NaN</td>\n",
              "    </tr>\n",
              "    <tr>\n",
              "      <th>KT</th>\n",
              "      <td>8.0</td>\n",
              "      <td>2.0</td>\n",
              "      <td>2.0</td>\n",
              "      <td>2.0</td>\n",
              "      <td>2.0</td>\n",
              "      <td>6.0</td>\n",
              "      <td>4.0</td>\n",
              "      <td>5.0</td>\n",
              "      <td>3.0</td>\n",
              "      <td>2.0</td>\n",
              "      <td>...</td>\n",
              "      <td>4.0</td>\n",
              "      <td>2.0</td>\n",
              "      <td>3.0</td>\n",
              "      <td>4.0</td>\n",
              "      <td>3.0</td>\n",
              "      <td>3.0</td>\n",
              "      <td>NaN</td>\n",
              "      <td>NaN</td>\n",
              "      <td>NaN</td>\n",
              "      <td>NaN</td>\n",
              "    </tr>\n",
              "    <tr>\n",
              "      <th>KM</th>\n",
              "      <td>3.0</td>\n",
              "      <td>1.0</td>\n",
              "      <td>1.0</td>\n",
              "      <td>2.0</td>\n",
              "      <td>2.0</td>\n",
              "      <td>4.0</td>\n",
              "      <td>5.0</td>\n",
              "      <td>4.0</td>\n",
              "      <td>3.0</td>\n",
              "      <td>1.0</td>\n",
              "      <td>...</td>\n",
              "      <td>3.0</td>\n",
              "      <td>2.0</td>\n",
              "      <td>2.0</td>\n",
              "      <td>3.0</td>\n",
              "      <td>3.0</td>\n",
              "      <td>2.0</td>\n",
              "      <td>NaN</td>\n",
              "      <td>NaN</td>\n",
              "      <td>NaN</td>\n",
              "      <td>NaN</td>\n",
              "    </tr>\n",
              "    <tr>\n",
              "      <th>garasi</th>\n",
              "      <td>NaN</td>\n",
              "      <td>NaN</td>\n",
              "      <td>NaN</td>\n",
              "      <td>NaN</td>\n",
              "      <td>NaN</td>\n",
              "      <td>NaN</td>\n",
              "      <td>1.0</td>\n",
              "      <td>2.0</td>\n",
              "      <td>NaN</td>\n",
              "      <td>NaN</td>\n",
              "      <td>...</td>\n",
              "      <td>2.0</td>\n",
              "      <td>NaN</td>\n",
              "      <td>NaN</td>\n",
              "      <td>1.0</td>\n",
              "      <td>1.0</td>\n",
              "      <td>NaN</td>\n",
              "      <td>NaN</td>\n",
              "      <td>NaN</td>\n",
              "      <td>NaN</td>\n",
              "      <td>NaN</td>\n",
              "    </tr>\n",
              "    <tr>\n",
              "      <th>carport</th>\n",
              "      <td>NaN</td>\n",
              "      <td>1.0</td>\n",
              "      <td>NaN</td>\n",
              "      <td>1.0</td>\n",
              "      <td>1.0</td>\n",
              "      <td>2.0</td>\n",
              "      <td>1.0</td>\n",
              "      <td>5.0</td>\n",
              "      <td>1.0</td>\n",
              "      <td>1.0</td>\n",
              "      <td>...</td>\n",
              "      <td>2.0</td>\n",
              "      <td>1.0</td>\n",
              "      <td>1.0</td>\n",
              "      <td>1.0</td>\n",
              "      <td>1.0</td>\n",
              "      <td>NaN</td>\n",
              "      <td>NaN</td>\n",
              "      <td>NaN</td>\n",
              "      <td>NaN</td>\n",
              "      <td>NaN</td>\n",
              "    </tr>\n",
              "    <tr>\n",
              "      <th>lokasi</th>\n",
              "      <td>Jakarta Pusat</td>\n",
              "      <td>Jakarta Pusat</td>\n",
              "      <td>Jakarta Pusat</td>\n",
              "      <td>Jakarta Pusat</td>\n",
              "      <td>Jakarta Pusat</td>\n",
              "      <td>Jakarta Pusat</td>\n",
              "      <td>Jakarta Pusat</td>\n",
              "      <td>Jakarta Pusat</td>\n",
              "      <td>Jakarta Pusat</td>\n",
              "      <td>Jakarta Pusat</td>\n",
              "      <td>...</td>\n",
              "      <td>PONDOK CABE, TANGERANG</td>\n",
              "      <td>LIPPO KARAWACI, TANGERANG</td>\n",
              "      <td>Ciater, Tangerang</td>\n",
              "      <td>BSD Griya Loka, Tangerang</td>\n",
              "      <td>Pagedangan, Tangerang</td>\n",
              "      <td>Poris, Tangerang</td>\n",
              "      <td>NaN</td>\n",
              "      <td>NaN</td>\n",
              "      <td>NaN</td>\n",
              "      <td>NaN</td>\n",
              "    </tr>\n",
              "    <tr>\n",
              "      <th>sertifikat</th>\n",
              "      <td>SHM</td>\n",
              "      <td>SHM</td>\n",
              "      <td>SHM</td>\n",
              "      <td>SHM</td>\n",
              "      <td>SHM</td>\n",
              "      <td>SHM</td>\n",
              "      <td>SHM</td>\n",
              "      <td>SHM</td>\n",
              "      <td>SHM</td>\n",
              "      <td>SHM</td>\n",
              "      <td>...</td>\n",
              "      <td>SHM</td>\n",
              "      <td>lainnya(PPJB, GIRIK, ADAT, dll)</td>\n",
              "      <td>SHM</td>\n",
              "      <td>SHM</td>\n",
              "      <td>SHM</td>\n",
              "      <td>SHM</td>\n",
              "      <td>NaN</td>\n",
              "      <td>NaN</td>\n",
              "      <td>NaN</td>\n",
              "      <td>NaN</td>\n",
              "    </tr>\n",
              "    <tr>\n",
              "      <th>listrik</th>\n",
              "      <td>2200.0</td>\n",
              "      <td>2200.0</td>\n",
              "      <td>2200.0</td>\n",
              "      <td>2200.0</td>\n",
              "      <td>2200.0</td>\n",
              "      <td>4400.0</td>\n",
              "      <td>33000.0</td>\n",
              "      <td>8000.0</td>\n",
              "      <td>2200.0</td>\n",
              "      <td>2200.0</td>\n",
              "      <td>...</td>\n",
              "      <td>2200.0</td>\n",
              "      <td>2200.0</td>\n",
              "      <td>1300.0</td>\n",
              "      <td>2200.0</td>\n",
              "      <td>2200.0</td>\n",
              "      <td>3500.0</td>\n",
              "      <td>NaN</td>\n",
              "      <td>NaN</td>\n",
              "      <td>NaN</td>\n",
              "      <td>NaN</td>\n",
              "    </tr>\n",
              "    <tr>\n",
              "      <th>hadap</th>\n",
              "      <td>NaN</td>\n",
              "      <td>NaN</td>\n",
              "      <td>NaN</td>\n",
              "      <td>NaN</td>\n",
              "      <td>NaN</td>\n",
              "      <td>NaN</td>\n",
              "      <td>Timur</td>\n",
              "      <td>NaN</td>\n",
              "      <td>NaN</td>\n",
              "      <td>NaN</td>\n",
              "      <td>...</td>\n",
              "      <td>Timur</td>\n",
              "      <td>NaN</td>\n",
              "      <td>NaN</td>\n",
              "      <td>Barat</td>\n",
              "      <td>NaN</td>\n",
              "      <td>NaN</td>\n",
              "      <td>NaN</td>\n",
              "      <td>NaN</td>\n",
              "      <td>NaN</td>\n",
              "      <td>NaN</td>\n",
              "    </tr>\n",
              "    <tr>\n",
              "      <th>harga</th>\n",
              "      <td>4500000000.0</td>\n",
              "      <td>1100000000.0</td>\n",
              "      <td>395000000.0</td>\n",
              "      <td>835000000.0</td>\n",
              "      <td>1100000000.0</td>\n",
              "      <td>5500000000.0</td>\n",
              "      <td>49500000000.0</td>\n",
              "      <td>40000000000.0</td>\n",
              "      <td>1700000000.0</td>\n",
              "      <td>835000000.0</td>\n",
              "      <td>...</td>\n",
              "      <td>1900.0</td>\n",
              "      <td>711.0</td>\n",
              "      <td>850.0</td>\n",
              "      <td>1860.0</td>\n",
              "      <td>1800.0</td>\n",
              "      <td>1000.0</td>\n",
              "      <td>NaN</td>\n",
              "      <td>NaN</td>\n",
              "      <td>NaN</td>\n",
              "      <td>NaN</td>\n",
              "    </tr>\n",
              "    <tr>\n",
              "      <th>URL</th>\n",
              "      <td>https://www.rumah.com/listing-properti/dijual-...</td>\n",
              "      <td>https://www.rumah.com/listing-properti/dijual-...</td>\n",
              "      <td>https://www.rumah.com/listing-properti/dijual-...</td>\n",
              "      <td>https://www.rumah.com/listing-properti/dijual-...</td>\n",
              "      <td>https://www.rumah.com/listing-properti/dijual-...</td>\n",
              "      <td>https://www.rumah.com/listing-properti/dijual-...</td>\n",
              "      <td>https://www.rumah.com/listing-properti/dijual-...</td>\n",
              "      <td>https://www.rumah.com/listing-properti/dijual-...</td>\n",
              "      <td>https://www.rumah.com/listing-properti/dijual-...</td>\n",
              "      <td>https://www.rumah.com/listing-properti/dijual-...</td>\n",
              "      <td>...</td>\n",
              "      <td>https://www.rumah123.com/properti/tangerang/ho...</td>\n",
              "      <td>https://www.rumah123.com/properti/tangerang/ho...</td>\n",
              "      <td>https://www.rumah123.com/properti/tangerang/ho...</td>\n",
              "      <td>https://www.rumah123.com/properti/tangerang/ho...</td>\n",
              "      <td>https://www.rumah123.com/properti/tangerang/ho...</td>\n",
              "      <td>https://www.rumah123.com/properti/tangerang/ho...</td>\n",
              "      <td>NaN</td>\n",
              "      <td>NaN</td>\n",
              "      <td>NaN</td>\n",
              "      <td>NaN</td>\n",
              "    </tr>\n",
              "    <tr>\n",
              "      <th>deskripsi</th>\n",
              "      <td>Dekat Cikini Salemba Taman Isamail Marzuki Kam...</td>\n",
              "      <td>Mengusung konsep minimalis, dan didukung denga...</td>\n",
              "      <td>Dekat dengan Mall Atrium Senen, dekat dengan a...</td>\n",
              "      <td>Berlokasi sangat strategis, sangat dekat ke Tu...</td>\n",
              "      <td>Bisa request ubah tata ruang, beli 2 unit mend...</td>\n",
              "      <td>NaN</td>\n",
              "      <td>Rumah mewah berkonsep hotel bintang 5, interio...</td>\n",
              "      <td>Lokasi strategis hanya 5 menit ke pusat  kulin...</td>\n",
              "      <td>Lokasi strategis di perbatasan Jakarta Barat d...</td>\n",
              "      <td>Desain menarik dengan konsep Townhouse, akses ...</td>\n",
              "      <td>...</td>\n",
              "      <td>DIJUAL DI BAWAH HARGA PASAR, HARGA PASARAN MAS...</td>\n",
              "      <td>Lokasi sangat dekat dengan berbagai Akses,Ters...</td>\n",
              "      <td>Berlian Ciater, Hunian 2 Lantai Nyaman dan Asr...</td>\n",
              "      <td>1-7 km ke Stasiun Rawa Buntu, Rs Eka Hospital,...</td>\n",
              "      <td>Fasilitas Terdekat :Lokasi strategis, berada d...</td>\n",
              "      <td>Akses Mudah: 10 Menit Ke stasiun kereta poris ...</td>\n",
              "      <td>NaN</td>\n",
              "      <td>NaN</td>\n",
              "      <td>NaN</td>\n",
              "      <td>NaN</td>\n",
              "    </tr>\n",
              "  </tbody>\n",
              "</table>\n",
              "<p>14 rows × 2150 columns</p>\n",
              "</div>\n",
              "      <button class=\"colab-df-convert\" onclick=\"convertToInteractive('df-19174c81-9e61-4f3a-9bb0-556f1d8482f5')\"\n",
              "              title=\"Convert this dataframe to an interactive table.\"\n",
              "              style=\"display:none;\">\n",
              "        \n",
              "  <svg xmlns=\"http://www.w3.org/2000/svg\" height=\"24px\"viewBox=\"0 0 24 24\"\n",
              "       width=\"24px\">\n",
              "    <path d=\"M0 0h24v24H0V0z\" fill=\"none\"/>\n",
              "    <path d=\"M18.56 5.44l.94 2.06.94-2.06 2.06-.94-2.06-.94-.94-2.06-.94 2.06-2.06.94zm-11 1L8.5 8.5l.94-2.06 2.06-.94-2.06-.94L8.5 2.5l-.94 2.06-2.06.94zm10 10l.94 2.06.94-2.06 2.06-.94-2.06-.94-.94-2.06-.94 2.06-2.06.94z\"/><path d=\"M17.41 7.96l-1.37-1.37c-.4-.4-.92-.59-1.43-.59-.52 0-1.04.2-1.43.59L10.3 9.45l-7.72 7.72c-.78.78-.78 2.05 0 2.83L4 21.41c.39.39.9.59 1.41.59.51 0 1.02-.2 1.41-.59l7.78-7.78 2.81-2.81c.8-.78.8-2.07 0-2.86zM5.41 20L4 18.59l7.72-7.72 1.47 1.35L5.41 20z\"/>\n",
              "  </svg>\n",
              "      </button>\n",
              "      \n",
              "  <style>\n",
              "    .colab-df-container {\n",
              "      display:flex;\n",
              "      flex-wrap:wrap;\n",
              "      gap: 12px;\n",
              "    }\n",
              "\n",
              "    .colab-df-convert {\n",
              "      background-color: #E8F0FE;\n",
              "      border: none;\n",
              "      border-radius: 50%;\n",
              "      cursor: pointer;\n",
              "      display: none;\n",
              "      fill: #1967D2;\n",
              "      height: 32px;\n",
              "      padding: 0 0 0 0;\n",
              "      width: 32px;\n",
              "    }\n",
              "\n",
              "    .colab-df-convert:hover {\n",
              "      background-color: #E2EBFA;\n",
              "      box-shadow: 0px 1px 2px rgba(60, 64, 67, 0.3), 0px 1px 3px 1px rgba(60, 64, 67, 0.15);\n",
              "      fill: #174EA6;\n",
              "    }\n",
              "\n",
              "    [theme=dark] .colab-df-convert {\n",
              "      background-color: #3B4455;\n",
              "      fill: #D2E3FC;\n",
              "    }\n",
              "\n",
              "    [theme=dark] .colab-df-convert:hover {\n",
              "      background-color: #434B5C;\n",
              "      box-shadow: 0px 1px 3px 1px rgba(0, 0, 0, 0.15);\n",
              "      filter: drop-shadow(0px 1px 2px rgba(0, 0, 0, 0.3));\n",
              "      fill: #FFFFFF;\n",
              "    }\n",
              "  </style>\n",
              "\n",
              "      <script>\n",
              "        const buttonEl =\n",
              "          document.querySelector('#df-19174c81-9e61-4f3a-9bb0-556f1d8482f5 button.colab-df-convert');\n",
              "        buttonEl.style.display =\n",
              "          google.colab.kernel.accessAllowed ? 'block' : 'none';\n",
              "\n",
              "        async function convertToInteractive(key) {\n",
              "          const element = document.querySelector('#df-19174c81-9e61-4f3a-9bb0-556f1d8482f5');\n",
              "          const dataTable =\n",
              "            await google.colab.kernel.invokeFunction('convertToInteractive',\n",
              "                                                     [key], {});\n",
              "          if (!dataTable) return;\n",
              "\n",
              "          const docLinkHtml = 'Like what you see? Visit the ' +\n",
              "            '<a target=\"_blank\" href=https://colab.research.google.com/notebooks/data_table.ipynb>data table notebook</a>'\n",
              "            + ' to learn more about interactive tables.';\n",
              "          element.innerHTML = '';\n",
              "          dataTable['output_type'] = 'display_data';\n",
              "          await google.colab.output.renderOutput(dataTable, element);\n",
              "          const docLink = document.createElement('div');\n",
              "          docLink.innerHTML = docLinkHtml;\n",
              "          element.appendChild(docLink);\n",
              "        }\n",
              "      </script>\n",
              "    </div>\n",
              "  </div>\n",
              "  "
            ]
          },
          "metadata": {},
          "execution_count": 6
        }
      ]
    },
    {
      "cell_type": "code",
      "source": [
        "data_rumah['listrik']"
      ],
      "metadata": {
        "colab": {
          "base_uri": "https://localhost:8080/"
        },
        "id": "EkzlPWYMVypp",
        "outputId": "53df0996-b02a-4652-83e9-ba0b38ce6a4f"
      },
      "execution_count": 7,
      "outputs": [
        {
          "output_type": "execute_result",
          "data": {
            "text/plain": [
              "0       2200.0\n",
              "1       2200.0\n",
              "2       2200.0\n",
              "3       2200.0\n",
              "4       2200.0\n",
              "         ...  \n",
              "2145    3500.0\n",
              "2146       NaN\n",
              "2147       NaN\n",
              "2148       NaN\n",
              "2149       NaN\n",
              "Name: listrik, Length: 2150, dtype: float64"
            ]
          },
          "metadata": {},
          "execution_count": 7
        }
      ]
    },
    {
      "cell_type": "code",
      "source": [
        "# Check for missing values\n",
        "data_rumah.isnull().sum()"
      ],
      "metadata": {
        "colab": {
          "base_uri": "https://localhost:8080/"
        },
        "id": "hjQAibh2wCoC",
        "outputId": "72624625-499b-4207-a885-bbf4b48e3cb0"
      },
      "execution_count": 8,
      "outputs": [
        {
          "output_type": "execute_result",
          "data": {
            "text/plain": [
              "created_at    1786\n",
              "LT            1785\n",
              "LB            1787\n",
              "KT            1787\n",
              "KM            1787\n",
              "garasi        2043\n",
              "carport       1874\n",
              "lokasi        1787\n",
              "sertifikat    1791\n",
              "listrik       1816\n",
              "hadap         2003\n",
              "harga         1787\n",
              "URL           1787\n",
              "deskripsi     1796\n",
              "dtype: int64"
            ]
          },
          "metadata": {},
          "execution_count": 8
        }
      ]
    },
    {
      "cell_type": "code",
      "source": [
        "data_rumah.info()"
      ],
      "metadata": {
        "colab": {
          "base_uri": "https://localhost:8080/"
        },
        "id": "obTNZXrW_PkV",
        "outputId": "a5643b85-43cb-4880-d096-19e9f7d3d326"
      },
      "execution_count": 9,
      "outputs": [
        {
          "output_type": "stream",
          "name": "stdout",
          "text": [
            "<class 'pandas.core.frame.DataFrame'>\n",
            "RangeIndex: 2150 entries, 0 to 2149\n",
            "Data columns (total 14 columns):\n",
            " #   Column      Non-Null Count  Dtype  \n",
            "---  ------      --------------  -----  \n",
            " 0   created_at  364 non-null    object \n",
            " 1   LT          365 non-null    object \n",
            " 2   LB          363 non-null    float64\n",
            " 3   KT          363 non-null    float64\n",
            " 4   KM          363 non-null    float64\n",
            " 5   garasi      107 non-null    float64\n",
            " 6   carport     276 non-null    float64\n",
            " 7   lokasi      363 non-null    object \n",
            " 8   sertifikat  359 non-null    object \n",
            " 9   listrik     334 non-null    float64\n",
            " 10  hadap       147 non-null    object \n",
            " 11  harga       363 non-null    float64\n",
            " 12  URL         363 non-null    object \n",
            " 13  deskripsi   354 non-null    object \n",
            "dtypes: float64(7), object(7)\n",
            "memory usage: 235.3+ KB\n"
          ]
        }
      ]
    },
    {
      "cell_type": "code",
      "source": [
        "#menghilangkan missing value\n",
        "data_rumah.dropna()\n",
        "print(data_rumah.isnull().sum())"
      ],
      "metadata": {
        "colab": {
          "base_uri": "https://localhost:8080/"
        },
        "id": "lwvDg8KW_9gK",
        "outputId": "0b14bd6a-02fe-4a65-a26f-709c9bf0ddca"
      },
      "execution_count": 10,
      "outputs": [
        {
          "output_type": "stream",
          "name": "stdout",
          "text": [
            "created_at    1786\n",
            "LT            1785\n",
            "LB            1787\n",
            "KT            1787\n",
            "KM            1787\n",
            "garasi        2043\n",
            "carport       1874\n",
            "lokasi        1787\n",
            "sertifikat    1791\n",
            "listrik       1816\n",
            "hadap         2003\n",
            "harga         1787\n",
            "URL           1787\n",
            "deskripsi     1796\n",
            "dtype: int64\n"
          ]
        }
      ]
    },
    {
      "cell_type": "code",
      "source": [
        "# Descriptive statistics\n",
        "data_rumah.describe().transpose()"
      ],
      "metadata": {
        "colab": {
          "base_uri": "https://localhost:8080/",
          "height": 269
        },
        "id": "m6gP6oXa031p",
        "outputId": "9c8b7881-3868-436d-d2f0-63d613d96d60"
      },
      "execution_count": 11,
      "outputs": [
        {
          "output_type": "execute_result",
          "data": {
            "text/plain": [
              "         count          mean           std    min     25%     50%  \\\n",
              "LB       363.0  1.914187e+02  2.434065e+02   15.0    60.0   109.0   \n",
              "KT       363.0  3.457300e+00  1.530616e+00    1.0     2.0     3.0   \n",
              "KM       363.0  2.677686e+00  1.480340e+00    1.0     2.0     2.0   \n",
              "garasi   107.0  1.962617e+00  1.619022e+00    1.0     1.0     1.0   \n",
              "carport  276.0  1.742754e+00  1.265968e+00    1.0     1.0     1.0   \n",
              "listrik  334.0  3.928144e+03  6.288522e+03  900.0  2200.0  2200.0   \n",
              "harga    363.0  2.995320e+09  1.007701e+10   41.0   870.0  2300.0   \n",
              "\n",
              "                  75%           max  \n",
              "LB       2.425000e+02  2.500000e+03  \n",
              "KT       4.000000e+00  1.000000e+01  \n",
              "KM       4.000000e+00  1.000000e+01  \n",
              "garasi   2.000000e+00  1.000000e+01  \n",
              "carport  2.000000e+00  1.000000e+01  \n",
              "listrik  3.500000e+03  6.600000e+04  \n",
              "harga    1.550000e+09  1.050000e+11  "
            ],
            "text/html": [
              "\n",
              "  <div id=\"df-216d0078-f694-4f18-a5bc-ec190c8e0162\">\n",
              "    <div class=\"colab-df-container\">\n",
              "      <div>\n",
              "<style scoped>\n",
              "    .dataframe tbody tr th:only-of-type {\n",
              "        vertical-align: middle;\n",
              "    }\n",
              "\n",
              "    .dataframe tbody tr th {\n",
              "        vertical-align: top;\n",
              "    }\n",
              "\n",
              "    .dataframe thead th {\n",
              "        text-align: right;\n",
              "    }\n",
              "</style>\n",
              "<table border=\"1\" class=\"dataframe\">\n",
              "  <thead>\n",
              "    <tr style=\"text-align: right;\">\n",
              "      <th></th>\n",
              "      <th>count</th>\n",
              "      <th>mean</th>\n",
              "      <th>std</th>\n",
              "      <th>min</th>\n",
              "      <th>25%</th>\n",
              "      <th>50%</th>\n",
              "      <th>75%</th>\n",
              "      <th>max</th>\n",
              "    </tr>\n",
              "  </thead>\n",
              "  <tbody>\n",
              "    <tr>\n",
              "      <th>LB</th>\n",
              "      <td>363.0</td>\n",
              "      <td>1.914187e+02</td>\n",
              "      <td>2.434065e+02</td>\n",
              "      <td>15.0</td>\n",
              "      <td>60.0</td>\n",
              "      <td>109.0</td>\n",
              "      <td>2.425000e+02</td>\n",
              "      <td>2.500000e+03</td>\n",
              "    </tr>\n",
              "    <tr>\n",
              "      <th>KT</th>\n",
              "      <td>363.0</td>\n",
              "      <td>3.457300e+00</td>\n",
              "      <td>1.530616e+00</td>\n",
              "      <td>1.0</td>\n",
              "      <td>2.0</td>\n",
              "      <td>3.0</td>\n",
              "      <td>4.000000e+00</td>\n",
              "      <td>1.000000e+01</td>\n",
              "    </tr>\n",
              "    <tr>\n",
              "      <th>KM</th>\n",
              "      <td>363.0</td>\n",
              "      <td>2.677686e+00</td>\n",
              "      <td>1.480340e+00</td>\n",
              "      <td>1.0</td>\n",
              "      <td>2.0</td>\n",
              "      <td>2.0</td>\n",
              "      <td>4.000000e+00</td>\n",
              "      <td>1.000000e+01</td>\n",
              "    </tr>\n",
              "    <tr>\n",
              "      <th>garasi</th>\n",
              "      <td>107.0</td>\n",
              "      <td>1.962617e+00</td>\n",
              "      <td>1.619022e+00</td>\n",
              "      <td>1.0</td>\n",
              "      <td>1.0</td>\n",
              "      <td>1.0</td>\n",
              "      <td>2.000000e+00</td>\n",
              "      <td>1.000000e+01</td>\n",
              "    </tr>\n",
              "    <tr>\n",
              "      <th>carport</th>\n",
              "      <td>276.0</td>\n",
              "      <td>1.742754e+00</td>\n",
              "      <td>1.265968e+00</td>\n",
              "      <td>1.0</td>\n",
              "      <td>1.0</td>\n",
              "      <td>1.0</td>\n",
              "      <td>2.000000e+00</td>\n",
              "      <td>1.000000e+01</td>\n",
              "    </tr>\n",
              "    <tr>\n",
              "      <th>listrik</th>\n",
              "      <td>334.0</td>\n",
              "      <td>3.928144e+03</td>\n",
              "      <td>6.288522e+03</td>\n",
              "      <td>900.0</td>\n",
              "      <td>2200.0</td>\n",
              "      <td>2200.0</td>\n",
              "      <td>3.500000e+03</td>\n",
              "      <td>6.600000e+04</td>\n",
              "    </tr>\n",
              "    <tr>\n",
              "      <th>harga</th>\n",
              "      <td>363.0</td>\n",
              "      <td>2.995320e+09</td>\n",
              "      <td>1.007701e+10</td>\n",
              "      <td>41.0</td>\n",
              "      <td>870.0</td>\n",
              "      <td>2300.0</td>\n",
              "      <td>1.550000e+09</td>\n",
              "      <td>1.050000e+11</td>\n",
              "    </tr>\n",
              "  </tbody>\n",
              "</table>\n",
              "</div>\n",
              "      <button class=\"colab-df-convert\" onclick=\"convertToInteractive('df-216d0078-f694-4f18-a5bc-ec190c8e0162')\"\n",
              "              title=\"Convert this dataframe to an interactive table.\"\n",
              "              style=\"display:none;\">\n",
              "        \n",
              "  <svg xmlns=\"http://www.w3.org/2000/svg\" height=\"24px\"viewBox=\"0 0 24 24\"\n",
              "       width=\"24px\">\n",
              "    <path d=\"M0 0h24v24H0V0z\" fill=\"none\"/>\n",
              "    <path d=\"M18.56 5.44l.94 2.06.94-2.06 2.06-.94-2.06-.94-.94-2.06-.94 2.06-2.06.94zm-11 1L8.5 8.5l.94-2.06 2.06-.94-2.06-.94L8.5 2.5l-.94 2.06-2.06.94zm10 10l.94 2.06.94-2.06 2.06-.94-2.06-.94-.94-2.06-.94 2.06-2.06.94z\"/><path d=\"M17.41 7.96l-1.37-1.37c-.4-.4-.92-.59-1.43-.59-.52 0-1.04.2-1.43.59L10.3 9.45l-7.72 7.72c-.78.78-.78 2.05 0 2.83L4 21.41c.39.39.9.59 1.41.59.51 0 1.02-.2 1.41-.59l7.78-7.78 2.81-2.81c.8-.78.8-2.07 0-2.86zM5.41 20L4 18.59l7.72-7.72 1.47 1.35L5.41 20z\"/>\n",
              "  </svg>\n",
              "      </button>\n",
              "      \n",
              "  <style>\n",
              "    .colab-df-container {\n",
              "      display:flex;\n",
              "      flex-wrap:wrap;\n",
              "      gap: 12px;\n",
              "    }\n",
              "\n",
              "    .colab-df-convert {\n",
              "      background-color: #E8F0FE;\n",
              "      border: none;\n",
              "      border-radius: 50%;\n",
              "      cursor: pointer;\n",
              "      display: none;\n",
              "      fill: #1967D2;\n",
              "      height: 32px;\n",
              "      padding: 0 0 0 0;\n",
              "      width: 32px;\n",
              "    }\n",
              "\n",
              "    .colab-df-convert:hover {\n",
              "      background-color: #E2EBFA;\n",
              "      box-shadow: 0px 1px 2px rgba(60, 64, 67, 0.3), 0px 1px 3px 1px rgba(60, 64, 67, 0.15);\n",
              "      fill: #174EA6;\n",
              "    }\n",
              "\n",
              "    [theme=dark] .colab-df-convert {\n",
              "      background-color: #3B4455;\n",
              "      fill: #D2E3FC;\n",
              "    }\n",
              "\n",
              "    [theme=dark] .colab-df-convert:hover {\n",
              "      background-color: #434B5C;\n",
              "      box-shadow: 0px 1px 3px 1px rgba(0, 0, 0, 0.15);\n",
              "      filter: drop-shadow(0px 1px 2px rgba(0, 0, 0, 0.3));\n",
              "      fill: #FFFFFF;\n",
              "    }\n",
              "  </style>\n",
              "\n",
              "      <script>\n",
              "        const buttonEl =\n",
              "          document.querySelector('#df-216d0078-f694-4f18-a5bc-ec190c8e0162 button.colab-df-convert');\n",
              "        buttonEl.style.display =\n",
              "          google.colab.kernel.accessAllowed ? 'block' : 'none';\n",
              "\n",
              "        async function convertToInteractive(key) {\n",
              "          const element = document.querySelector('#df-216d0078-f694-4f18-a5bc-ec190c8e0162');\n",
              "          const dataTable =\n",
              "            await google.colab.kernel.invokeFunction('convertToInteractive',\n",
              "                                                     [key], {});\n",
              "          if (!dataTable) return;\n",
              "\n",
              "          const docLinkHtml = 'Like what you see? Visit the ' +\n",
              "            '<a target=\"_blank\" href=https://colab.research.google.com/notebooks/data_table.ipynb>data table notebook</a>'\n",
              "            + ' to learn more about interactive tables.';\n",
              "          element.innerHTML = '';\n",
              "          dataTable['output_type'] = 'display_data';\n",
              "          await google.colab.output.renderOutput(dataTable, element);\n",
              "          const docLink = document.createElement('div');\n",
              "          docLink.innerHTML = docLinkHtml;\n",
              "          element.appendChild(docLink);\n",
              "        }\n",
              "      </script>\n",
              "    </div>\n",
              "  </div>\n",
              "  "
            ]
          },
          "metadata": {},
          "execution_count": 11
        }
      ]
    },
    {
      "cell_type": "code",
      "source": [
        "## Hapus missing values\n",
        "data_rumah.dropna(inplace=True)\n",
        "print(data_rumah.isnull().sum())"
      ],
      "metadata": {
        "colab": {
          "base_uri": "https://localhost:8080/"
        },
        "id": "lOM6oU17zY1Z",
        "outputId": "872654dc-460f-4935-8764-46851bc1c995"
      },
      "execution_count": 12,
      "outputs": [
        {
          "output_type": "stream",
          "name": "stdout",
          "text": [
            "created_at    0\n",
            "LT            0\n",
            "LB            0\n",
            "KT            0\n",
            "KM            0\n",
            "garasi        0\n",
            "carport       0\n",
            "lokasi        0\n",
            "sertifikat    0\n",
            "listrik       0\n",
            "hadap         0\n",
            "harga         0\n",
            "URL           0\n",
            "deskripsi     0\n",
            "dtype: int64\n"
          ]
        }
      ]
    },
    {
      "cell_type": "code",
      "source": [
        "data_rumah.info()"
      ],
      "metadata": {
        "colab": {
          "base_uri": "https://localhost:8080/"
        },
        "id": "6m_xHWt6wNZq",
        "outputId": "bf00ecac-09cb-48ea-d22c-46aeae54ada6"
      },
      "execution_count": 13,
      "outputs": [
        {
          "output_type": "stream",
          "name": "stdout",
          "text": [
            "<class 'pandas.core.frame.DataFrame'>\n",
            "Int64Index: 43 entries, 6 to 2143\n",
            "Data columns (total 14 columns):\n",
            " #   Column      Non-Null Count  Dtype  \n",
            "---  ------      --------------  -----  \n",
            " 0   created_at  43 non-null     object \n",
            " 1   LT          43 non-null     object \n",
            " 2   LB          43 non-null     float64\n",
            " 3   KT          43 non-null     float64\n",
            " 4   KM          43 non-null     float64\n",
            " 5   garasi      43 non-null     float64\n",
            " 6   carport     43 non-null     float64\n",
            " 7   lokasi      43 non-null     object \n",
            " 8   sertifikat  43 non-null     object \n",
            " 9   listrik     43 non-null     float64\n",
            " 10  hadap       43 non-null     object \n",
            " 11  harga       43 non-null     float64\n",
            " 12  URL         43 non-null     object \n",
            " 13  deskripsi   43 non-null     object \n",
            "dtypes: float64(7), object(7)\n",
            "memory usage: 5.0+ KB\n"
          ]
        }
      ]
    },
    {
      "cell_type": "code",
      "source": [
        "data_rumah['sertifikat'].value_counts()"
      ],
      "metadata": {
        "colab": {
          "base_uri": "https://localhost:8080/"
        },
        "id": "68qrBWMe0-dW",
        "outputId": "4a3d0a3a-f4e2-4b39-ebb8-6d4a45a17df3"
      },
      "execution_count": 14,
      "outputs": [
        {
          "output_type": "execute_result",
          "data": {
            "text/plain": [
              "SHM                                36\n",
              "SHM + IMB                           3\n",
              "lainnya(PPJB, GIRIK, ADAT, dll)     2\n",
              "SHM + IMB + PBB                     1\n",
              "PPJB                                1\n",
              "Name: sertifikat, dtype: int64"
            ]
          },
          "metadata": {},
          "execution_count": 14
        }
      ]
    },
    {
      "cell_type": "code",
      "source": [
        "data_rumah['hadap'].value_counts()"
      ],
      "metadata": {
        "colab": {
          "base_uri": "https://localhost:8080/"
        },
        "id": "KqJx_WnK1CTw",
        "outputId": "c20bc7be-89ce-421b-a86c-94a427d80196"
      },
      "execution_count": 15,
      "outputs": [
        {
          "output_type": "execute_result",
          "data": {
            "text/plain": [
              "Timur         12\n",
              "Utara         12\n",
              "Selatan        9\n",
              "Barat          4\n",
              "Timur Laut     3\n",
              "timur          1\n",
              "Tenggara       1\n",
              "Barat Daya     1\n",
              "Name: hadap, dtype: int64"
            ]
          },
          "metadata": {},
          "execution_count": 15
        }
      ]
    },
    {
      "cell_type": "code",
      "source": [
        "#mengecek duplicate\n",
        "data_rumah.drop_duplicates(inplace=True)\n",
        "data_rumah.duplicated().sum()"
      ],
      "metadata": {
        "colab": {
          "base_uri": "https://localhost:8080/"
        },
        "id": "YvWmyupr0eRS",
        "outputId": "81f39d72-a7a5-4b16-8ec9-254adfdfd98d"
      },
      "execution_count": 16,
      "outputs": [
        {
          "output_type": "execute_result",
          "data": {
            "text/plain": [
              "0"
            ]
          },
          "metadata": {},
          "execution_count": 16
        }
      ]
    },
    {
      "cell_type": "code",
      "source": [
        "missing_data = pd.DataFrame({'total_missing': data_rumah.isnull().sum(), 'perc_missing': (data_rumah.isnull().sum()/102)*100})\n",
        "missing_data"
      ],
      "metadata": {
        "colab": {
          "base_uri": "https://localhost:8080/",
          "height": 488
        },
        "id": "w5nq1hAO1XZd",
        "outputId": "4f8e24af-206f-48a4-a7ab-4faf14b708e4"
      },
      "execution_count": 17,
      "outputs": [
        {
          "output_type": "execute_result",
          "data": {
            "text/plain": [
              "            total_missing  perc_missing\n",
              "created_at              0           0.0\n",
              "LT                      0           0.0\n",
              "LB                      0           0.0\n",
              "KT                      0           0.0\n",
              "KM                      0           0.0\n",
              "garasi                  0           0.0\n",
              "carport                 0           0.0\n",
              "lokasi                  0           0.0\n",
              "sertifikat              0           0.0\n",
              "listrik                 0           0.0\n",
              "hadap                   0           0.0\n",
              "harga                   0           0.0\n",
              "URL                     0           0.0\n",
              "deskripsi               0           0.0"
            ],
            "text/html": [
              "\n",
              "  <div id=\"df-0e3520ad-20c4-428c-96d4-a20262a627a9\">\n",
              "    <div class=\"colab-df-container\">\n",
              "      <div>\n",
              "<style scoped>\n",
              "    .dataframe tbody tr th:only-of-type {\n",
              "        vertical-align: middle;\n",
              "    }\n",
              "\n",
              "    .dataframe tbody tr th {\n",
              "        vertical-align: top;\n",
              "    }\n",
              "\n",
              "    .dataframe thead th {\n",
              "        text-align: right;\n",
              "    }\n",
              "</style>\n",
              "<table border=\"1\" class=\"dataframe\">\n",
              "  <thead>\n",
              "    <tr style=\"text-align: right;\">\n",
              "      <th></th>\n",
              "      <th>total_missing</th>\n",
              "      <th>perc_missing</th>\n",
              "    </tr>\n",
              "  </thead>\n",
              "  <tbody>\n",
              "    <tr>\n",
              "      <th>created_at</th>\n",
              "      <td>0</td>\n",
              "      <td>0.0</td>\n",
              "    </tr>\n",
              "    <tr>\n",
              "      <th>LT</th>\n",
              "      <td>0</td>\n",
              "      <td>0.0</td>\n",
              "    </tr>\n",
              "    <tr>\n",
              "      <th>LB</th>\n",
              "      <td>0</td>\n",
              "      <td>0.0</td>\n",
              "    </tr>\n",
              "    <tr>\n",
              "      <th>KT</th>\n",
              "      <td>0</td>\n",
              "      <td>0.0</td>\n",
              "    </tr>\n",
              "    <tr>\n",
              "      <th>KM</th>\n",
              "      <td>0</td>\n",
              "      <td>0.0</td>\n",
              "    </tr>\n",
              "    <tr>\n",
              "      <th>garasi</th>\n",
              "      <td>0</td>\n",
              "      <td>0.0</td>\n",
              "    </tr>\n",
              "    <tr>\n",
              "      <th>carport</th>\n",
              "      <td>0</td>\n",
              "      <td>0.0</td>\n",
              "    </tr>\n",
              "    <tr>\n",
              "      <th>lokasi</th>\n",
              "      <td>0</td>\n",
              "      <td>0.0</td>\n",
              "    </tr>\n",
              "    <tr>\n",
              "      <th>sertifikat</th>\n",
              "      <td>0</td>\n",
              "      <td>0.0</td>\n",
              "    </tr>\n",
              "    <tr>\n",
              "      <th>listrik</th>\n",
              "      <td>0</td>\n",
              "      <td>0.0</td>\n",
              "    </tr>\n",
              "    <tr>\n",
              "      <th>hadap</th>\n",
              "      <td>0</td>\n",
              "      <td>0.0</td>\n",
              "    </tr>\n",
              "    <tr>\n",
              "      <th>harga</th>\n",
              "      <td>0</td>\n",
              "      <td>0.0</td>\n",
              "    </tr>\n",
              "    <tr>\n",
              "      <th>URL</th>\n",
              "      <td>0</td>\n",
              "      <td>0.0</td>\n",
              "    </tr>\n",
              "    <tr>\n",
              "      <th>deskripsi</th>\n",
              "      <td>0</td>\n",
              "      <td>0.0</td>\n",
              "    </tr>\n",
              "  </tbody>\n",
              "</table>\n",
              "</div>\n",
              "      <button class=\"colab-df-convert\" onclick=\"convertToInteractive('df-0e3520ad-20c4-428c-96d4-a20262a627a9')\"\n",
              "              title=\"Convert this dataframe to an interactive table.\"\n",
              "              style=\"display:none;\">\n",
              "        \n",
              "  <svg xmlns=\"http://www.w3.org/2000/svg\" height=\"24px\"viewBox=\"0 0 24 24\"\n",
              "       width=\"24px\">\n",
              "    <path d=\"M0 0h24v24H0V0z\" fill=\"none\"/>\n",
              "    <path d=\"M18.56 5.44l.94 2.06.94-2.06 2.06-.94-2.06-.94-.94-2.06-.94 2.06-2.06.94zm-11 1L8.5 8.5l.94-2.06 2.06-.94-2.06-.94L8.5 2.5l-.94 2.06-2.06.94zm10 10l.94 2.06.94-2.06 2.06-.94-2.06-.94-.94-2.06-.94 2.06-2.06.94z\"/><path d=\"M17.41 7.96l-1.37-1.37c-.4-.4-.92-.59-1.43-.59-.52 0-1.04.2-1.43.59L10.3 9.45l-7.72 7.72c-.78.78-.78 2.05 0 2.83L4 21.41c.39.39.9.59 1.41.59.51 0 1.02-.2 1.41-.59l7.78-7.78 2.81-2.81c.8-.78.8-2.07 0-2.86zM5.41 20L4 18.59l7.72-7.72 1.47 1.35L5.41 20z\"/>\n",
              "  </svg>\n",
              "      </button>\n",
              "      \n",
              "  <style>\n",
              "    .colab-df-container {\n",
              "      display:flex;\n",
              "      flex-wrap:wrap;\n",
              "      gap: 12px;\n",
              "    }\n",
              "\n",
              "    .colab-df-convert {\n",
              "      background-color: #E8F0FE;\n",
              "      border: none;\n",
              "      border-radius: 50%;\n",
              "      cursor: pointer;\n",
              "      display: none;\n",
              "      fill: #1967D2;\n",
              "      height: 32px;\n",
              "      padding: 0 0 0 0;\n",
              "      width: 32px;\n",
              "    }\n",
              "\n",
              "    .colab-df-convert:hover {\n",
              "      background-color: #E2EBFA;\n",
              "      box-shadow: 0px 1px 2px rgba(60, 64, 67, 0.3), 0px 1px 3px 1px rgba(60, 64, 67, 0.15);\n",
              "      fill: #174EA6;\n",
              "    }\n",
              "\n",
              "    [theme=dark] .colab-df-convert {\n",
              "      background-color: #3B4455;\n",
              "      fill: #D2E3FC;\n",
              "    }\n",
              "\n",
              "    [theme=dark] .colab-df-convert:hover {\n",
              "      background-color: #434B5C;\n",
              "      box-shadow: 0px 1px 3px 1px rgba(0, 0, 0, 0.15);\n",
              "      filter: drop-shadow(0px 1px 2px rgba(0, 0, 0, 0.3));\n",
              "      fill: #FFFFFF;\n",
              "    }\n",
              "  </style>\n",
              "\n",
              "      <script>\n",
              "        const buttonEl =\n",
              "          document.querySelector('#df-0e3520ad-20c4-428c-96d4-a20262a627a9 button.colab-df-convert');\n",
              "        buttonEl.style.display =\n",
              "          google.colab.kernel.accessAllowed ? 'block' : 'none';\n",
              "\n",
              "        async function convertToInteractive(key) {\n",
              "          const element = document.querySelector('#df-0e3520ad-20c4-428c-96d4-a20262a627a9');\n",
              "          const dataTable =\n",
              "            await google.colab.kernel.invokeFunction('convertToInteractive',\n",
              "                                                     [key], {});\n",
              "          if (!dataTable) return;\n",
              "\n",
              "          const docLinkHtml = 'Like what you see? Visit the ' +\n",
              "            '<a target=\"_blank\" href=https://colab.research.google.com/notebooks/data_table.ipynb>data table notebook</a>'\n",
              "            + ' to learn more about interactive tables.';\n",
              "          element.innerHTML = '';\n",
              "          dataTable['output_type'] = 'display_data';\n",
              "          await google.colab.output.renderOutput(dataTable, element);\n",
              "          const docLink = document.createElement('div');\n",
              "          docLink.innerHTML = docLinkHtml;\n",
              "          element.appendChild(docLink);\n",
              "        }\n",
              "      </script>\n",
              "    </div>\n",
              "  </div>\n",
              "  "
            ]
          },
          "metadata": {},
          "execution_count": 17
        }
      ]
    },
    {
      "cell_type": "code",
      "source": [
        "# Detect outliers\n",
        "# Outlier di variabel listrik\n",
        "ax = sns.boxplot(x=data_rumah[\"listrik\"])\n",
        "ax.set_xlabel('Listrik')"
      ],
      "metadata": {
        "colab": {
          "base_uri": "https://localhost:8080/",
          "height": 296
        },
        "id": "fkoqUsVkxgU-",
        "outputId": "9aa5ed78-492f-4009-f8ad-bd0e6903d2bf"
      },
      "execution_count": 18,
      "outputs": [
        {
          "output_type": "execute_result",
          "data": {
            "text/plain": [
              "Text(0.5, 0, 'Listrik')"
            ]
          },
          "metadata": {},
          "execution_count": 18
        },
        {
          "output_type": "display_data",
          "data": {
            "text/plain": [
              "<Figure size 432x288 with 1 Axes>"
            ],
            "image/png": "[encoded data removed]"
          },
          "metadata": {
            "needs_background": "light"
          }
        }
      ]
    },
    {
      "cell_type": "markdown",
      "source": [
        "Terindikasi bahwa nilai outlier dari variabel listrik lebih dari 30000 watt."
      ],
      "metadata": {
        "id": "WZgM4qqCiM0X"
      }
    },
    {
      "cell_type": "code",
      "source": [
        "# Outlier di variabel Luas Bangunan\n",
        "ax = sns.boxplot(x=data_rumah[\"LB\"])\n",
        "ax.set_xlabel('Luas Bangunan')"
      ],
      "metadata": {
        "colab": {
          "base_uri": "https://localhost:8080/",
          "height": 296
        },
        "id": "qpiWWPFz1cvf",
        "outputId": "bc7e2940-40db-4956-e00b-f39303e3c0ef"
      },
      "execution_count": 19,
      "outputs": [
        {
          "output_type": "execute_result",
          "data": {
            "text/plain": [
              "Text(0.5, 0, 'Luas Bangunan')"
            ]
          },
          "metadata": {},
          "execution_count": 19
        },
        {
          "output_type": "display_data",
          "data": {
            "text/plain": [
              "<Figure size 432x288 with 1 Axes>"
            ],
            "image/png": "[encoded data removed]"
          },
          "metadata": {
            "needs_background": "light"
          }
        }
      ]
    },
    {
      "cell_type": "markdown",
      "source": [
        "Terindikasi bahwa nilai outlier dari variabel luas tanah lebih dari  1000m2 ."
      ],
      "metadata": {
        "id": "PTuKxV8winSR"
      }
    },
    {
      "cell_type": "code",
      "source": [
        "# Outlier di variabel Kamar Tidur\n",
        "ax = sns.boxplot(x=data_rumah[\"KT\"])\n",
        "ax.set_xlabel('Kamar Tidur')"
      ],
      "metadata": {
        "colab": {
          "base_uri": "https://localhost:8080/",
          "height": 296
        },
        "id": "OQ6UL15f1xU1",
        "outputId": "a9496e80-e0f7-4760-dfb0-fe468c9796bc"
      },
      "execution_count": 20,
      "outputs": [
        {
          "output_type": "execute_result",
          "data": {
            "text/plain": [
              "Text(0.5, 0, 'Kamar Tidur')"
            ]
          },
          "metadata": {},
          "execution_count": 20
        },
        {
          "output_type": "display_data",
          "data": {
            "text/plain": [
              "<Figure size 432x288 with 1 Axes>"
            ],
            "image/png": "[encoded data removed]"
          },
          "metadata": {
            "needs_background": "light"
          }
        }
      ]
    },
    {
      "cell_type": "markdown",
      "source": [],
      "metadata": {
        "id": "Jk3RkZ2Ri5Zj"
      }
    },
    {
      "cell_type": "code",
      "source": [
        "# Outlier di variabel Kamar Mandi\n",
        "ax = sns.boxplot(x=data_rumah[\"KM\"])\n",
        "ax.set_xlabel('Kamar Mandi')"
      ],
      "metadata": {
        "colab": {
          "base_uri": "https://localhost:8080/",
          "height": 296
        },
        "id": "jDjOzULt14F1",
        "outputId": "7c65368c-429b-43a2-96a1-76f8a47ae53f"
      },
      "execution_count": 21,
      "outputs": [
        {
          "output_type": "execute_result",
          "data": {
            "text/plain": [
              "Text(0.5, 0, 'Kamar Mandi')"
            ]
          },
          "metadata": {},
          "execution_count": 21
        },
        {
          "output_type": "display_data",
          "data": {
            "text/plain": [
              "<Figure size 432x288 with 1 Axes>"
            ],
            "image/png": "[encoded data removed]"
          },
          "metadata": {
            "needs_background": "light"
          }
        }
      ]
    },
    {
      "cell_type": "code",
      "source": [
        "plot = data_rumah.hadap.value_counts().plot(kind='pie')"
      ],
      "metadata": {
        "colab": {
          "base_uri": "https://localhost:8080/",
          "height": 248
        },
        "id": "LwASqN6v19DF",
        "outputId": "a308c26d-6649-4dbc-f5cb-8b9caa62702a"
      },
      "execution_count": 22,
      "outputs": [
        {
          "output_type": "display_data",
          "data": {
            "text/plain": [
              "<Figure size 432x288 with 1 Axes>"
            ],
            "image/png": "[encoded data removed]"
          },
          "metadata": {}
        }
      ]
    },
    {
      "cell_type": "markdown",
      "source": [
        "Terindikasi bahwa mayoritas rumah yang di jual di daerah Depok, Jakarta,dan Tangerang menghadap utara."
      ],
      "metadata": {
        "id": "a-98_jJtjQHk"
      }
    },
    {
      "cell_type": "code",
      "source": [
        "plt.figure(figsize=(8,6))\n",
        "a = sns.countplot(x=\"sertifikat\", data=data_rumah)"
      ],
      "metadata": {
        "colab": {
          "base_uri": "https://localhost:8080/",
          "height": 388
        },
        "id": "NXQYvllI2Dsn",
        "outputId": "50a3315a-2dca-4c17-ff6d-34e56c049aa8"
      },
      "execution_count": 23,
      "outputs": [
        {
          "output_type": "display_data",
          "data": {
            "text/plain": [
              "<Figure size 576x432 with 1 Axes>"
            ],
            "image/png": "[encoded data removed]"
          },
          "metadata": {
            "needs_background": "light"
          }
        }
      ]
    },
    {
      "cell_type": "markdown",
      "source": [
        "Terindikasi bahwa mayoritas rumah yang di jual di daerah Depok, Jakarta,dan Tangerang bersertifikat SHM (Sertifikat Hak Milik)"
      ],
      "metadata": {
        "id": "2eSr9lXYjbj4"
      }
    },
    {
      "cell_type": "code",
      "source": [
        "print(data_rumah['lokasi'].value_counts()[:10])\n",
        "plt.figure(figsize=(22,10))\n",
        "sns.countplot(data_rumah['lokasi'])\n",
        "plt.xticks(rotation=90)\n",
        "plt.show()"
      ],
      "metadata": {
        "id": "p217NYus2Q6A",
        "colab": {
          "base_uri": "https://localhost:8080/",
          "height": 987
        },
        "outputId": "c98ee55d-b2fe-4d44-f2e8-3f601a43b63d"
      },
      "execution_count": 24,
      "outputs": [
        {
          "output_type": "stream",
          "name": "stdout",
          "text": [
            "Sawangan                        6\n",
            "Jakarta Selatan                 6\n",
            "Jakarta Utara                   5\n",
            "Jakarta Barat                   3\n",
            "BSD, TANGERANG                  3\n",
            "CIKUPA CITRA JAYA, TANGERANG    2\n",
            "Cipayung                        2\n",
            "Pancoran Mas                    2\n",
            "BSD CITY, TANGERANG             1\n",
            "PONDOK CABE, TANGERANG          1\n",
            "Name: lokasi, dtype: int64\n"
          ]
        },
        {
          "output_type": "stream",
          "name": "stderr",
          "text": [
            "/usr/local/lib/python3.7/dist-packages/seaborn/_decorators.py:43: FutureWarning: Pass the following variable as a keyword arg: x. From version 0.12, the only valid positional argument will be `data`, and passing other arguments without an explicit keyword will result in an error or misinterpretation.\n",
            "  FutureWarning\n"
          ]
        },
        {
          "output_type": "display_data",
          "data": {
            "text/plain": [
              "<Figure size 1584x720 with 1 Axes>"
            ],
            "image/png": "[encoded data removed]"
          },
          "metadata": {
            "needs_background": "light"
          }
        }
      ]
    },
    {
      "cell_type": "markdown",
      "source": [
        "Terindikasi bahwa mayoritas rumah yang terjual berlokasi di Jakarta Selatan dan Sawangan."
      ],
      "metadata": {
        "id": "a-xdLOD7js3U"
      }
    },
    {
      "cell_type": "code",
      "source": [
        "dfJ = dfJ.drop(dfJ.columns[14:26], axis= 1)"
      ],
      "metadata": {
        "id": "CTfgaJUddUMI"
      },
      "execution_count": 25,
      "outputs": []
    },
    {
      "cell_type": "code",
      "source": [
        "dfJ.info()"
      ],
      "metadata": {
        "colab": {
          "base_uri": "https://localhost:8080/"
        },
        "id": "dsPhWiedd_F6",
        "outputId": "330f3a94-6a49-40d4-987e-e16fbf55db97"
      },
      "execution_count": 26,
      "outputs": [
        {
          "output_type": "stream",
          "name": "stdout",
          "text": [
            "<class 'pandas.core.frame.DataFrame'>\n",
            "RangeIndex: 1024 entries, 0 to 1023\n",
            "Data columns (total 14 columns):\n",
            " #   Column      Non-Null Count  Dtype  \n",
            "---  ------      --------------  -----  \n",
            " 0   created_at  121 non-null    object \n",
            " 1   LT          121 non-null    float64\n",
            " 2   LB          121 non-null    float64\n",
            " 3   KT          121 non-null    float64\n",
            " 4   KM          121 non-null    float64\n",
            " 5   garasi      44 non-null     float64\n",
            " 6   carport     90 non-null     float64\n",
            " 7   lokasi      121 non-null    object \n",
            " 8   sertifikat  119 non-null    object \n",
            " 9   listrik     120 non-null    float64\n",
            " 10  hadap       36 non-null     object \n",
            " 11  harga       121 non-null    float64\n",
            " 12  URL         121 non-null    object \n",
            " 13  deskripsi   112 non-null    object \n",
            "dtypes: float64(8), object(6)\n",
            "memory usage: 112.1+ KB\n"
          ]
        }
      ]
    },
    {
      "cell_type": "code",
      "source": [
        "plt.figure(figsize=(12,7))\n",
        "plt.barh(data_rumah['lokasi'], data_rumah['harga'], color='orange')\n",
        "plt.xlabel('Harga', size = 14)\n",
        "plt.xticks(size=12)\n",
        "plt.yticks(size=12)\n",
        "\n",
        "plt.show()"
      ],
      "metadata": {
        "id": "UIq9Izek3GUx",
        "colab": {
          "base_uri": "https://localhost:8080/",
          "height": 449
        },
        "outputId": "513f94c6-0b97-4c6c-cd44-f55bc32b1c3b"
      },
      "execution_count": 27,
      "outputs": [
        {
          "output_type": "display_data",
          "data": {
            "text/plain": [
              "<Figure size 864x504 with 1 Axes>"
            ],
            "image/png": "[encoded data removed]"
          },
          "metadata": {
            "needs_background": "light"
          }
        }
      ]
    },
    {
      "cell_type": "markdown",
      "source": [
        "Terindikasi bahwa harga rumah paling tinggi berada di lokasi Jakarta Pusat."
      ],
      "metadata": {
        "id": "xohF95YAkRSd"
      }
    },
    {
      "cell_type": "code",
      "source": [
        "#menghilangkan outlier\n",
        "df = np.abs(data_rumah.harga - data_rumah.harga.mean())<=(2*data_rumah.harga.std())\n",
        "print(df)"
      ],
      "metadata": {
        "colab": {
          "base_uri": "https://localhost:8080/"
        },
        "id": "mY6ymhEpe-_0",
        "outputId": "b46094be-5eb1-4bf7-d9e7-ce21bd4adf72"
      },
      "execution_count": 28,
      "outputs": [
        {
          "output_type": "stream",
          "name": "stdout",
          "text": [
            "6       False\n",
            "27       True\n",
            "28       True\n",
            "30       True\n",
            "37       True\n",
            "38       True\n",
            "39       True\n",
            "60       True\n",
            "61       True\n",
            "70       True\n",
            "74       True\n",
            "75      False\n",
            "76       True\n",
            "79       True\n",
            "80       True\n",
            "118      True\n",
            "1036     True\n",
            "1039     True\n",
            "1046     True\n",
            "1048     True\n",
            "1049     True\n",
            "1056     True\n",
            "1064     True\n",
            "1070     True\n",
            "1100     True\n",
            "1123     True\n",
            "1124     True\n",
            "1125     True\n",
            "2029     True\n",
            "2030     True\n",
            "2032     True\n",
            "2035     True\n",
            "2038     True\n",
            "2062     True\n",
            "2067     True\n",
            "2076     True\n",
            "2077     True\n",
            "2106     True\n",
            "2112     True\n",
            "2123     True\n",
            "2131     True\n",
            "2140     True\n",
            "2143     True\n",
            "Name: harga, dtype: bool\n"
          ]
        }
      ]
    },
    {
      "cell_type": "code",
      "source": [
        "data_rumah2 = data_rumah[df]\n",
        "print(data_rumah.shape, data_rumah2.shape)"
      ],
      "metadata": {
        "colab": {
          "base_uri": "https://localhost:8080/"
        },
        "id": "OGsDR9GGfrEL",
        "outputId": "0aed6ef9-bf79-4d43-ad71-eedef40af95c"
      },
      "execution_count": 29,
      "outputs": [
        {
          "output_type": "stream",
          "name": "stdout",
          "text": [
            "(43, 14) (41, 14)\n"
          ]
        }
      ]
    },
    {
      "cell_type": "code",
      "source": [
        "p = sns.catplot(x='KT', y='harga', data=data_rumah2)"
      ],
      "metadata": {
        "colab": {
          "base_uri": "https://localhost:8080/",
          "height": 369
        },
        "id": "uz7zHBNpeOxF",
        "outputId": "ad117908-8762-4811-8446-b9ce3751ec21"
      },
      "execution_count": 30,
      "outputs": [
        {
          "output_type": "display_data",
          "data": {
            "text/plain": [
              "<Figure size 360x360 with 1 Axes>"
            ],
            "image/png": "[encoded data removed]"
          },
          "metadata": {
            "needs_background": "light"
          }
        }
      ]
    },
    {
      "cell_type": "markdown",
      "source": [
        "Terlihat pada plot di atas bahwa jumlah kamar tidur pada rumah mempengaruhi harga. Terindikasi bahwa jumlah kamar tidur lebih besar dari enam memiliki harga yang lebih tinggi dibandingkan yang memiliki jumlah kamar tidur kurang dari 6."
      ],
      "metadata": {
        "id": "iB6HDxB6ksCj"
      }
    },
    {
      "cell_type": "code",
      "source": [
        "p1 = sns.catplot(x='KT', y='harga', hue='sertifikat', kind='swarm', data=data_rumah2)"
      ],
      "metadata": {
        "colab": {
          "base_uri": "https://localhost:8080/",
          "height": 424
        },
        "id": "LlHEmhmSggmX",
        "outputId": "570fb117-db87-4475-fd2f-9032b451237d"
      },
      "execution_count": 31,
      "outputs": [
        {
          "output_type": "stream",
          "name": "stderr",
          "text": [
            "/usr/local/lib/python3.7/dist-packages/seaborn/categorical.py:1296: UserWarning: 36.4% of the points cannot be placed; you may want to decrease the size of the markers or use stripplot.\n",
            "  warnings.warn(msg, UserWarning)\n"
          ]
        },
        {
          "output_type": "display_data",
          "data": {
            "text/plain": [
              "<Figure size 546.5x360 with 1 Axes>"
            ],
            "image/png": "[encoded data removed]"
          },
          "metadata": {
            "needs_background": "light"
          }
        }
      ]
    },
    {
      "cell_type": "markdown",
      "source": [
        "Terindikasi pada plot di atas, jumlah rumah yang memiliki kamar tidur lebih dari 6 dan memiliki 3 sertifikat yaitu SHM, IMB, dan PBB cenderung memiliki harga yang paling tinggi."
      ],
      "metadata": {
        "id": "o0OT7G0PljH9"
      }
    },
    {
      "cell_type": "code",
      "source": [
        "p1 = sns.catplot(x='LT', y='harga', hue='lokasi', kind='swarm', data=data_rumah2)"
      ],
      "metadata": {
        "colab": {
          "base_uri": "https://localhost:8080/",
          "height": 424
        },
        "id": "egBRFqDXmse5",
        "outputId": "37bb0fbc-8f37-4d78-e1b8-65fd352dc5a4"
      },
      "execution_count": 32,
      "outputs": [
        {
          "output_type": "stream",
          "name": "stderr",
          "text": [
            "/usr/local/lib/python3.7/dist-packages/seaborn/categorical.py:1296: UserWarning: 50.0% of the points cannot be placed; you may want to decrease the size of the markers or use stripplot.\n",
            "  warnings.warn(msg, UserWarning)\n"
          ]
        },
        {
          "output_type": "display_data",
          "data": {
            "text/plain": [
              "<Figure size 556.5x360 with 1 Axes>"
            ],
            "image/png": "[encoded data removed]"
          },
          "metadata": {
            "needs_background": "light"
          }
        }
      ]
    },
    {
      "cell_type": "markdown",
      "source": [
        "Terindikasi bahwa luas tanah cenderung lebih kecil, tetapi berada di lokasi jakarta selatan memiliki harga yang lebih tinggi dibandingkan dengan daerah lainnya."
      ],
      "metadata": {
        "id": "QChtQjEbnJdE"
      }
    },
    {
      "cell_type": "markdown",
      "source": [
        "Kesimpulan:\n",
        "\n",
        "- Dapat diketahui bahwa luas tanah tidak mempengaruhi harga penjualan rumah dikarenakan lokasi dan sertifikat yang strategis mempengaruhi harga penjualan rumah.\n",
        "\n",
        "- Jika kita ingin menghasilkan keuntungan yang lebih besar terhadap penjualan harga rumah maka kita dapat memilih lokasi yang strategis berdasarkan hasil analisis data daerah Jakarta, Depok dan Tangerang, diketahui bahwa daerah Jakarta khususnya Jakarta Selatan cenderung memiliki harga jual yang lebih tinggi."
      ],
      "metadata": {
        "id": "E9T-3sF-nyfv"
      }
    }
  ]
}